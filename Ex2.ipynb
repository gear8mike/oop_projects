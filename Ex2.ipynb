{
 "cells": [
  {
   "cell_type": "markdown",
   "id": "4660916b",
   "metadata": {},
   "source": [
    "Continue to learn classes.\n",
    "\n",
    "Now we are talking about `@property`"
   ]
  },
  {
   "cell_type": "code",
   "execution_count": 37,
   "id": "3caff0c7",
   "metadata": {},
   "outputs": [],
   "source": [
    "class Person:\n",
    "    \"\"\"\n",
    "    Person object\n",
    "    \"\"\"\n",
    "    def __init__(self, name):\n",
    "        self._name = name\n",
    "#         self.set_name(name)\n",
    "        \n",
    "    def get_name(self):\n",
    "        return self._name\n",
    "    \n",
    "    def set_name(self, value):\n",
    "        if isinstance(value, str) and len(value.strip()) > 0:\n",
    "            self._name = value.strip()\n",
    "        else:\n",
    "            raise ValueError(\"name is a non-empty string\")\n",
    "            \n",
    "    def del_name(self):\n",
    "        print(f\"delete name: {self._name}\")\n",
    "        del self._name\n",
    "            \n",
    "    name = property(fget=get_name, fset=set_name, fdel=del_name, doc=\"Person object\")"
   ]
  },
  {
   "cell_type": "code",
   "execution_count": 35,
   "id": "96935852",
   "metadata": {},
   "outputs": [],
   "source": [
    "p = Person(\"Jack\")"
   ]
  },
  {
   "cell_type": "code",
   "execution_count": 36,
   "id": "fea286df",
   "metadata": {},
   "outputs": [
    {
     "data": {
      "text/plain": [
       "{'_name': 'Jack'}"
      ]
     },
     "execution_count": 36,
     "metadata": {},
     "output_type": "execute_result"
    }
   ],
   "source": [
    "p.__dict__"
   ]
  },
  {
   "cell_type": "code",
   "execution_count": 32,
   "id": "6ee99210",
   "metadata": {},
   "outputs": [
    {
     "data": {
      "text/plain": [
       "'Jack'"
      ]
     },
     "execution_count": 32,
     "metadata": {},
     "output_type": "execute_result"
    }
   ],
   "source": [
    "p.name"
   ]
  },
  {
   "cell_type": "code",
   "execution_count": 33,
   "id": "12562015",
   "metadata": {
    "scrolled": true
   },
   "outputs": [
    {
     "name": "stdout",
     "output_type": "stream",
     "text": [
      "delete name: Jack\n"
     ]
    }
   ],
   "source": [
    "del p.name"
   ]
  },
  {
   "cell_type": "code",
   "execution_count": 15,
   "id": "dbbca8bb",
   "metadata": {},
   "outputs": [
    {
     "data": {
      "text/plain": [
       "'Jack'"
      ]
     },
     "execution_count": 15,
     "metadata": {},
     "output_type": "execute_result"
    }
   ],
   "source": [
    "p._name"
   ]
  },
  {
   "cell_type": "code",
   "execution_count": 16,
   "id": "358cfa04",
   "metadata": {},
   "outputs": [],
   "source": [
    "p._name = \"Jana\""
   ]
  },
  {
   "cell_type": "code",
   "execution_count": 24,
   "id": "736c759b",
   "metadata": {},
   "outputs": [
    {
     "data": {
      "text/plain": [
       "'Jana'"
      ]
     },
     "execution_count": 24,
     "metadata": {},
     "output_type": "execute_result"
    }
   ],
   "source": [
    "p.name"
   ]
  },
  {
   "cell_type": "markdown",
   "id": "54c96753",
   "metadata": {},
   "source": [
    "## new step 29.04.23"
   ]
  },
  {
   "cell_type": "code",
   "execution_count": 1,
   "id": "19c81fde",
   "metadata": {},
   "outputs": [],
   "source": [
    "class MyClass:\n",
    "    def __init__(self, language):\n",
    "        self._language = language\n",
    "        \n",
    "    @property\n",
    "    def language(self):\n",
    "        return self._language\n",
    "    \n",
    "    @language.setter\n",
    "    def language(self, value):\n",
    "        self._language = value"
   ]
  },
  {
   "cell_type": "code",
   "execution_count": 2,
   "id": "bbfc371e",
   "metadata": {},
   "outputs": [],
   "source": [
    "obj = MyClass(\"sql\")"
   ]
  },
  {
   "cell_type": "code",
   "execution_count": 3,
   "id": "24866893",
   "metadata": {},
   "outputs": [],
   "source": [
    "obj.language = \"java\""
   ]
  },
  {
   "cell_type": "code",
   "execution_count": 4,
   "id": "1ab5db97",
   "metadata": {},
   "outputs": [
    {
     "data": {
      "text/plain": [
       "{'_language': 'java'}"
      ]
     },
     "execution_count": 4,
     "metadata": {},
     "output_type": "execute_result"
    }
   ],
   "source": [
    "obj.__dict__"
   ]
  },
  {
   "cell_type": "code",
   "execution_count": 5,
   "id": "0091c0cf",
   "metadata": {},
   "outputs": [
    {
     "data": {
      "text/plain": [
       "'java'"
      ]
     },
     "execution_count": 5,
     "metadata": {},
     "output_type": "execute_result"
    }
   ],
   "source": [
    "obj.language"
   ]
  },
  {
   "cell_type": "code",
   "execution_count": 6,
   "id": "1dfd82c0",
   "metadata": {},
   "outputs": [],
   "source": [
    "p = property(fget=lambda self: print(\"getting property\"))"
   ]
  },
  {
   "cell_type": "code",
   "execution_count": 7,
   "id": "40045e36",
   "metadata": {},
   "outputs": [
    {
     "data": {
      "text/plain": [
       "<function property.getter>"
      ]
     },
     "execution_count": 7,
     "metadata": {},
     "output_type": "execute_result"
    }
   ],
   "source": [
    "p.getter"
   ]
  },
  {
   "cell_type": "code",
   "execution_count": 8,
   "id": "4b201206",
   "metadata": {},
   "outputs": [],
   "source": [
    "def my_decorator(func):\n",
    "    print(\"start decorator\")\n",
    "    def inner(*args, **kwargs):\n",
    "        print(\"Running  decorated func\")\n",
    "        return func(*args, **kwargs)\n",
    "    return inner"
   ]
  },
  {
   "cell_type": "code",
   "execution_count": 9,
   "id": "3cf507b4",
   "metadata": {},
   "outputs": [],
   "source": [
    "def undec_func(a, b):\n",
    "    print(\"undec function\")\n",
    "    return a+b"
   ]
  },
  {
   "cell_type": "code",
   "execution_count": 10,
   "id": "1394bddc",
   "metadata": {},
   "outputs": [
    {
     "name": "stdout",
     "output_type": "stream",
     "text": [
      "undec function\n"
     ]
    },
    {
     "data": {
      "text/plain": [
       "7"
      ]
     },
     "execution_count": 10,
     "metadata": {},
     "output_type": "execute_result"
    }
   ],
   "source": [
    "undec_func(3, 4)"
   ]
  },
  {
   "cell_type": "code",
   "execution_count": 11,
   "id": "dc3849b5",
   "metadata": {},
   "outputs": [
    {
     "name": "stdout",
     "output_type": "stream",
     "text": [
      "start decorator\n"
     ]
    }
   ],
   "source": [
    "decor_func = my_decorator(undec_func)"
   ]
  },
  {
   "cell_type": "code",
   "execution_count": 12,
   "id": "61459cf2",
   "metadata": {},
   "outputs": [
    {
     "name": "stdout",
     "output_type": "stream",
     "text": [
      "Running  decorated func\n",
      "undec function\n"
     ]
    },
    {
     "data": {
      "text/plain": [
       "10"
      ]
     },
     "execution_count": 12,
     "metadata": {},
     "output_type": "execute_result"
    }
   ],
   "source": [
    "decor_func(3, 7)"
   ]
  },
  {
   "cell_type": "code",
   "execution_count": 13,
   "id": "2cc4a9f0",
   "metadata": {},
   "outputs": [],
   "source": [
    "class Person:\n",
    "    def __init__(self, name):\n",
    "        self._name = name\n",
    "        \n",
    "    @property\n",
    "    def name(self):\n",
    "        print(\"getter called!\")\n",
    "        return self._name"
   ]
  },
  {
   "cell_type": "code",
   "execution_count": 14,
   "id": "678511e0",
   "metadata": {},
   "outputs": [],
   "source": [
    "p1 = Person(\"Nick\")"
   ]
  },
  {
   "cell_type": "code",
   "execution_count": 15,
   "id": "c171a16e",
   "metadata": {},
   "outputs": [
    {
     "data": {
      "text/plain": [
       "{'_name': 'Nick'}"
      ]
     },
     "execution_count": 15,
     "metadata": {},
     "output_type": "execute_result"
    }
   ],
   "source": [
    "p1.__dict__"
   ]
  },
  {
   "cell_type": "code",
   "execution_count": 16,
   "id": "fca6716f",
   "metadata": {},
   "outputs": [],
   "source": [
    "def get_prop(self):\n",
    "    return 'getter called ...'\n",
    "\n",
    "def set_prop(self):\n",
    "    return 'setter called ...'\n",
    "\n",
    "def del_prop(self):\n",
    "    return 'deleter called ...'"
   ]
  },
  {
   "cell_type": "code",
   "execution_count": 20,
   "id": "d35169a3",
   "metadata": {},
   "outputs": [],
   "source": [
    "p = property(get_prop)"
   ]
  },
  {
   "cell_type": "code",
   "execution_count": 21,
   "id": "c2665b1a",
   "metadata": {},
   "outputs": [
    {
     "data": {
      "text/plain": [
       "<function __main__.get_prop(self)>"
      ]
     },
     "execution_count": 21,
     "metadata": {},
     "output_type": "execute_result"
    }
   ],
   "source": [
    "p.fget"
   ]
  },
  {
   "cell_type": "code",
   "execution_count": 23,
   "id": "138f465e",
   "metadata": {},
   "outputs": [],
   "source": [
    "def name(self):\n",
    "    print(\"getter\")\n",
    "    \n",
    "name = property(name)"
   ]
  },
  {
   "cell_type": "code",
   "execution_count": 24,
   "id": "d6df52ec",
   "metadata": {},
   "outputs": [],
   "source": [
    "name_tmp = name"
   ]
  },
  {
   "cell_type": "code",
   "execution_count": 25,
   "id": "acfc8537",
   "metadata": {},
   "outputs": [],
   "source": [
    "def name(self, value):\n",
    "    print(\"setter...\")"
   ]
  },
  {
   "cell_type": "code",
   "execution_count": 29,
   "id": "2f454f4a",
   "metadata": {},
   "outputs": [],
   "source": [
    "class Person:\n",
    "    def __init__(self, name):\n",
    "        self._name = name\n",
    "        \n",
    "    @property\n",
    "    def name(self):\n",
    "        print(\"getter\")\n",
    "        return self._name\n",
    "    \n",
    "    @name.setter\n",
    "    def name(self, value):\n",
    "        print(\"setter\")\n",
    "        self._name = value\n",
    "        \n",
    "    @name.deleter\n",
    "    def name(self):\n",
    "        print(\"deleter\")\n",
    "        del self._name"
   ]
  },
  {
   "cell_type": "code",
   "execution_count": 30,
   "id": "95c20d34",
   "metadata": {},
   "outputs": [],
   "source": [
    "p2 = Person(\"Jackie\")"
   ]
  },
  {
   "cell_type": "code",
   "execution_count": 31,
   "id": "58486cc2",
   "metadata": {},
   "outputs": [
    {
     "data": {
      "text/plain": [
       "{'_name': 'Jackie'}"
      ]
     },
     "execution_count": 31,
     "metadata": {},
     "output_type": "execute_result"
    }
   ],
   "source": [
    "p2.__dict__"
   ]
  },
  {
   "cell_type": "code",
   "execution_count": 32,
   "id": "81b2599e",
   "metadata": {},
   "outputs": [
    {
     "name": "stdout",
     "output_type": "stream",
     "text": [
      "getter\n"
     ]
    },
    {
     "data": {
      "text/plain": [
       "'Jackie'"
      ]
     },
     "execution_count": 32,
     "metadata": {},
     "output_type": "execute_result"
    }
   ],
   "source": [
    "p2.name"
   ]
  },
  {
   "cell_type": "code",
   "execution_count": 33,
   "id": "56ce9465",
   "metadata": {},
   "outputs": [
    {
     "name": "stdout",
     "output_type": "stream",
     "text": [
      "setter\n"
     ]
    }
   ],
   "source": [
    "p2.name = \"April\""
   ]
  },
  {
   "cell_type": "code",
   "execution_count": 34,
   "id": "00a43b8e",
   "metadata": {},
   "outputs": [
    {
     "data": {
      "text/plain": [
       "{'_name': 'April'}"
      ]
     },
     "execution_count": 34,
     "metadata": {},
     "output_type": "execute_result"
    }
   ],
   "source": [
    "p2.__dict__"
   ]
  },
  {
   "cell_type": "code",
   "execution_count": 35,
   "id": "f418aa09",
   "metadata": {},
   "outputs": [
    {
     "name": "stdout",
     "output_type": "stream",
     "text": [
      "deleter\n"
     ]
    }
   ],
   "source": [
    "del p2.name"
   ]
  },
  {
   "cell_type": "code",
   "execution_count": 36,
   "id": "aaa37912",
   "metadata": {},
   "outputs": [
    {
     "data": {
      "text/plain": [
       "{}"
      ]
     },
     "execution_count": 36,
     "metadata": {},
     "output_type": "execute_result"
    }
   ],
   "source": [
    "p2.__dict__"
   ]
  },
  {
   "cell_type": "code",
   "execution_count": 37,
   "id": "94a1e1aa",
   "metadata": {},
   "outputs": [],
   "source": [
    "from math import pi"
   ]
  },
  {
   "cell_type": "code",
   "execution_count": 46,
   "id": "2e8df80f",
   "metadata": {},
   "outputs": [],
   "source": [
    "class Circle:\n",
    "    def __init__(self, radius):\n",
    "        self._radius = radius\n",
    "        self._area = None\n",
    "        \n",
    "    @property\n",
    "    def radius(self):\n",
    "        return self._radius\n",
    "    \n",
    "    @radius.setter\n",
    "    def radius(self, value):\n",
    "        self._area = None\n",
    "        self._radius = value\n",
    "    \n",
    "    @property\n",
    "    def area(self):\n",
    "        if self._area is None:\n",
    "            print(\"calculation\")\n",
    "            self._area = round(pi * self.radius ** 2, 3)\n",
    "        return self._area"
   ]
  },
  {
   "cell_type": "code",
   "execution_count": 47,
   "id": "e3527e89",
   "metadata": {},
   "outputs": [],
   "source": [
    "cir = Circle(1)"
   ]
  },
  {
   "cell_type": "code",
   "execution_count": 48,
   "id": "d1676f72",
   "metadata": {},
   "outputs": [
    {
     "name": "stdout",
     "output_type": "stream",
     "text": [
      "calculation\n"
     ]
    },
    {
     "data": {
      "text/plain": [
       "3.142"
      ]
     },
     "execution_count": 48,
     "metadata": {},
     "output_type": "execute_result"
    }
   ],
   "source": [
    "cir.area"
   ]
  },
  {
   "cell_type": "code",
   "execution_count": 49,
   "id": "fa5ab2fa",
   "metadata": {},
   "outputs": [
    {
     "data": {
      "text/plain": [
       "3.142"
      ]
     },
     "execution_count": 49,
     "metadata": {},
     "output_type": "execute_result"
    }
   ],
   "source": [
    "cir.area"
   ]
  },
  {
   "cell_type": "code",
   "execution_count": 50,
   "id": "e4c6abd6",
   "metadata": {},
   "outputs": [
    {
     "data": {
      "text/plain": [
       "{'_radius': 1, '_area': 3.142}"
      ]
     },
     "execution_count": 50,
     "metadata": {},
     "output_type": "execute_result"
    }
   ],
   "source": [
    "cir.__dict__"
   ]
  },
  {
   "cell_type": "code",
   "execution_count": 84,
   "id": "6701b6f0",
   "metadata": {},
   "outputs": [],
   "source": [
    "import urllib\n",
    "from time import perf_counter"
   ]
  },
  {
   "cell_type": "code",
   "execution_count": 85,
   "id": "35236a30",
   "metadata": {},
   "outputs": [],
   "source": [
    "class WebPage:\n",
    "    def __init__(self, url):\n",
    "        self.url = url\n",
    "        self._page = None\n",
    "        self._load_time_secs = None\n",
    "        self._page_size = None\n",
    "        \n",
    "    @property\n",
    "    def url(self):\n",
    "        return self._url\n",
    "    \n",
    "    @url.setter\n",
    "    def url(self, value):\n",
    "        self._url = value\n",
    "        self._page = None\n",
    "        \n",
    "    @property\n",
    "    def page(self):\n",
    "        if self._page is None:\n",
    "            self.download_page()\n",
    "        return self._page\n",
    "    \n",
    "    @property\n",
    "    def page_size(self):\n",
    "        if self._page is None:\n",
    "            self.download_page()\n",
    "        return self._page_size\n",
    "    \n",
    "    @property\n",
    "    def time_elapsed(self):\n",
    "        if self._page is None:\n",
    "            self.download_page()\n",
    "        return self._load_time_secs\n",
    "    \n",
    "    def download_page(self):\n",
    "        self._page_size = None\n",
    "        self._load_time_secs = None\n",
    "        start_time = perf_counter()\n",
    "        with urllib.request.urlopen(self.url) as f:\n",
    "            self._page = f.read()\n",
    "        end_time = perf_counter()\n",
    "        self._page_size = len(self._page)\n",
    "        self._load_time_secs = end_time - start_time\n",
    "        \n",
    "        \n",
    "        "
   ]
  },
  {
   "cell_type": "code",
   "execution_count": 86,
   "id": "91742578",
   "metadata": {},
   "outputs": [],
   "source": [
    "urls = [\"https://www.google.com\",\n",
    "       \"https://www.python.org\",\n",
    "       \"https://www.youtube.com\"]"
   ]
  },
  {
   "cell_type": "code",
   "execution_count": 87,
   "id": "fefa6742",
   "metadata": {},
   "outputs": [
    {
     "name": "stdout",
     "output_type": "stream",
     "text": [
      "https://www.google.com \tsize=15_856 \telapsed=0.21 secs\n",
      "https://www.python.org \tsize=50_120 \telapsed=0.18 secs\n",
      "https://www.youtube.com \tsize=693_932 \telapsed=0.39 secs\n"
     ]
    }
   ],
   "source": [
    "for url in urls:\n",
    "    page = WebPage(url)\n",
    "#     print(page.url)\n",
    "    print(f'{url} \\tsize={format(page.page_size, \"_\")} \\telapsed={page.time_elapsed:.2f} secs')"
   ]
  },
  {
   "cell_type": "markdown",
   "id": "97f10924",
   "metadata": {},
   "source": [
    "### Deleting Properties"
   ]
  },
  {
   "cell_type": "code",
   "execution_count": 9,
   "id": "e026c82b",
   "metadata": {},
   "outputs": [],
   "source": [
    "class Person:\n",
    "    def __init__(self, name):\n",
    "        self._name = name\n",
    "        \n",
    "    @property\n",
    "    def name(self):\n",
    "        print(\"Getter\")\n",
    "        return self._name\n",
    "    \n",
    "    @name.setter\n",
    "    def name(self, value):\n",
    "        print(\"Setter\")\n",
    "        self._name = value\n",
    "        \n",
    "    @name.deleter\n",
    "    def name(self):\n",
    "        print(\"Deleter\")\n",
    "        del self._name\n",
    "        \n",
    "    "
   ]
  },
  {
   "cell_type": "code",
   "execution_count": 10,
   "id": "e5e85a51",
   "metadata": {},
   "outputs": [],
   "source": [
    "p1 = Person(\"Julia\")"
   ]
  },
  {
   "cell_type": "code",
   "execution_count": 11,
   "id": "a1c84930",
   "metadata": {},
   "outputs": [
    {
     "data": {
      "text/plain": [
       "{'_name': 'Julia'}"
      ]
     },
     "execution_count": 11,
     "metadata": {},
     "output_type": "execute_result"
    }
   ],
   "source": [
    "p1.__dict__"
   ]
  },
  {
   "cell_type": "code",
   "execution_count": 12,
   "id": "6d5bfdf2",
   "metadata": {},
   "outputs": [
    {
     "name": "stdout",
     "output_type": "stream",
     "text": [
      "Getter\n"
     ]
    },
    {
     "data": {
      "text/plain": [
       "'Julia'"
      ]
     },
     "execution_count": 12,
     "metadata": {},
     "output_type": "execute_result"
    }
   ],
   "source": [
    "p1.name"
   ]
  },
  {
   "cell_type": "code",
   "execution_count": 13,
   "id": "38dc1806",
   "metadata": {},
   "outputs": [
    {
     "name": "stdout",
     "output_type": "stream",
     "text": [
      "Setter\n"
     ]
    }
   ],
   "source": [
    "p1.name = \"Victoria\""
   ]
  },
  {
   "cell_type": "code",
   "execution_count": 16,
   "id": "9d70d699",
   "metadata": {},
   "outputs": [
    {
     "data": {
      "text/plain": [
       "{}"
      ]
     },
     "execution_count": 16,
     "metadata": {},
     "output_type": "execute_result"
    }
   ],
   "source": [
    "p1.__dict__"
   ]
  },
  {
   "cell_type": "code",
   "execution_count": 15,
   "id": "f3ee6915",
   "metadata": {},
   "outputs": [
    {
     "name": "stdout",
     "output_type": "stream",
     "text": [
      "Deleter\n"
     ]
    }
   ],
   "source": [
    "del p1.name"
   ]
  },
  {
   "cell_type": "code",
   "execution_count": null,
   "id": "c3de4315",
   "metadata": {},
   "outputs": [],
   "source": []
  },
  {
   "cell_type": "code",
   "execution_count": null,
   "id": "1eca496f",
   "metadata": {},
   "outputs": [],
   "source": []
  },
  {
   "cell_type": "code",
   "execution_count": null,
   "id": "098e3088",
   "metadata": {},
   "outputs": [],
   "source": []
  },
  {
   "cell_type": "code",
   "execution_count": null,
   "id": "b92e9b80",
   "metadata": {},
   "outputs": [],
   "source": []
  }
 ],
 "metadata": {
  "kernelspec": {
   "display_name": "pandas-env",
   "language": "python",
   "name": "pandas-env"
  },
  "language_info": {
   "codemirror_mode": {
    "name": "ipython",
    "version": 3
   },
   "file_extension": ".py",
   "mimetype": "text/x-python",
   "name": "python",
   "nbconvert_exporter": "python",
   "pygments_lexer": "ipython3",
   "version": "3.8.13"
  }
 },
 "nbformat": 4,
 "nbformat_minor": 5
}
