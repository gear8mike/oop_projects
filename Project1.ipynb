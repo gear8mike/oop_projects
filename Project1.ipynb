{
 "cells": [
  {
   "cell_type": "markdown",
   "id": "10d16c95",
   "metadata": {},
   "source": [
    "### Project 1\n",
    "\n",
    "TimeZone Class"
   ]
  },
  {
   "cell_type": "code",
   "execution_count": 11,
   "id": "de688214",
   "metadata": {},
   "outputs": [],
   "source": [
    "import numbers\n",
    "from datetime import timedelta"
   ]
  },
  {
   "cell_type": "code",
   "execution_count": 14,
   "id": "e0be2046",
   "metadata": {},
   "outputs": [],
   "source": [
    "class TimeZone:\n",
    "    def __init__(self, name, offset_hours, offset_minutes):\n",
    "        if name is None or len(str(name).strip()) == 0: \n",
    "            raise ValueError('TimeZone name cannot be empty')\n",
    "\n",
    "        self._name = str(name).strip()\n",
    "\n",
    "        if not isinstance(offset_hours, numbers.Integral):\n",
    "            raise ValueError(\"Hour offset must be an integer\")\n",
    "\n",
    "        if not isinstance(offset_minutes, numbers.Integral):\n",
    "            raise ValueError(\"Minutes offset must be an integer\")\n",
    "\n",
    "        if abs(offset_minutes) > 59 :\n",
    "            raise ValueError(\"Minutes offset must be [-59, 59].\")\n",
    "\n",
    "        offset = timedelta(hours=offset_hours, minutes=offset_minutes)\n",
    "        if offset < timedelta(hours=-12, minutes=0) or offset > timedelta(hours=14, minutes=0):\n",
    "            raise ValueError(\"Offset must be between -12.00 and 14.00\")\n",
    "\n",
    "        self._offest_hours = offset_hours\n",
    "        self._offset_minutes = offset_minutes\n",
    "        self._offset = offset\n",
    "\n",
    "    @property\n",
    "    def offset(self):\n",
    "        return self._offset\n",
    "\n",
    "    @property\n",
    "    def name(self):\n",
    "        return self._name\n",
    "\n",
    "    def __eq__(self, other):\n",
    "        return(isinstance(other, TimeZone) and\n",
    "               self.name == other.name and\n",
    "               self._offest_hours == other._offset_hours and\n",
    "               self._offset_minutes == other._offset_minutes)\n",
    "\n",
    "    def __repr__(self):\n",
    "        return(f\"TimeZone(name='{self.name}', \"\n",
    "               f\"offest_hours={self._offset_hours}, \"\n",
    "               f\"offset_minutes={self._offset_minutes})\")\n"
   ]
  },
  {
   "cell_type": "code",
   "execution_count": 16,
   "id": "27e2b3f9",
   "metadata": {},
   "outputs": [
    {
     "data": {
      "text/plain": [
       "'ABC'"
      ]
     },
     "execution_count": 16,
     "metadata": {},
     "output_type": "execute_result"
    }
   ],
   "source": [
    "tz1 = TimeZone(\"ABC\", -2, -15)\n",
    "tz1.name"
   ]
  },
  {
   "cell_type": "code",
   "execution_count": 18,
   "id": "1543e194-85ae-44ba-96c4-9c6f0bcb0210",
   "metadata": {},
   "outputs": [
    {
     "name": "stdout",
     "output_type": "stream",
     "text": [
      "2023-05-08 11:17:17.804017\n"
     ]
    }
   ],
   "source": [
    "from datetime import datetime\n",
    "\n",
    "dt = datetime.utcnow()\n",
    "print(dt)"
   ]
  },
  {
   "cell_type": "code",
   "execution_count": 19,
   "id": "a0e2a14e-2ea6-4dff-b563-ec35976ceacb",
   "metadata": {},
   "outputs": [
    {
     "name": "stdout",
     "output_type": "stream",
     "text": [
      "2023-05-08 09:02:17.804017\n"
     ]
    }
   ],
   "source": [
    "print(dt + tz1.offset)"
   ]
  },
  {
   "cell_type": "code",
   "execution_count": 21,
   "id": "07238e3c-c0bc-4f13-85df-5834294166d1",
   "metadata": {},
   "outputs": [
    {
     "name": "stdout",
     "output_type": "stream",
     "text": [
      "TimeZone name cannot be empty\n"
     ]
    }
   ],
   "source": [
    "try:\n",
    "    tz = TimeZone(\"\", 1, 10)\n",
    "except ValueError as ex:\n",
    "    print(ex)"
   ]
  }
 ],
 "metadata": {
  "kernelspec": {
   "display_name": "pandas-env",
   "language": "python",
   "name": "pandas-env"
  },
  "language_info": {
   "codemirror_mode": {
    "name": "ipython",
    "version": 3
   },
   "file_extension": ".py",
   "mimetype": "text/x-python",
   "name": "python",
   "nbconvert_exporter": "python",
   "pygments_lexer": "ipython3",
   "version": "3.8.13"
  }
 },
 "nbformat": 4,
 "nbformat_minor": 5
}
