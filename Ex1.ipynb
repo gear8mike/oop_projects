{
 "cells": [
  {
   "cell_type": "markdown",
   "id": "15c1cad6",
   "metadata": {},
   "source": [
    "Practise with Classes"
   ]
  },
  {
   "cell_type": "code",
   "execution_count": 67,
   "id": "391c8d66",
   "metadata": {},
   "outputs": [
    {
     "name": "stdout",
     "output_type": "stream",
     "text": [
      "Python 3.9.12\n"
     ]
    }
   ],
   "source": [
    "!python --version"
   ]
  },
  {
   "cell_type": "code",
   "execution_count": 96,
   "id": "de0a8595",
   "metadata": {},
   "outputs": [],
   "source": [
    "from types import MethodType"
   ]
  },
  {
   "cell_type": "code",
   "execution_count": 97,
   "id": "8fadfcb0",
   "metadata": {},
   "outputs": [],
   "source": [
    "class Person:\n",
    "    \n",
    "    def __init__(self, name):\n",
    "        self.name = name\n",
    "        \n",
    "    def reg_do_work(self, func):\n",
    "        setattr(self, \"_do_work\", MethodType(func, self))\n",
    "        \n",
    "    def do_work(self):\n",
    "        do_work_method = getattr(self, '_do_work', None)\n",
    "        \n",
    "        if do_work_method:\n",
    "            return do_work_method()\n",
    "        else:\n",
    "            raise AttributeError(\"You must register\")"
   ]
  },
  {
   "cell_type": "code",
   "execution_count": 98,
   "id": "aa1f441a",
   "metadata": {},
   "outputs": [],
   "source": [
    "math_teacher = Person(\"Luck\")\n",
    "phys_teacher = Person(\"Bill\")"
   ]
  },
  {
   "cell_type": "code",
   "execution_count": 100,
   "id": "7a250436",
   "metadata": {},
   "outputs": [],
   "source": [
    "def work_math(self):\n",
    "    return f\"{self.name} will teach linear algebra today\""
   ]
  },
  {
   "cell_type": "code",
   "execution_count": 101,
   "id": "1d03bdce",
   "metadata": {},
   "outputs": [],
   "source": [
    "math_teacher.reg_do_work(work_math)"
   ]
  },
  {
   "cell_type": "code",
   "execution_count": 102,
   "id": "92a3dfef",
   "metadata": {},
   "outputs": [
    {
     "data": {
      "text/plain": [
       "'Luck will teach linear algebra today'"
      ]
     },
     "execution_count": 102,
     "metadata": {},
     "output_type": "execute_result"
    }
   ],
   "source": [
    "math_teacher.do_work()"
   ]
  },
  {
   "cell_type": "code",
   "execution_count": 88,
   "id": "20b50594",
   "metadata": {},
   "outputs": [],
   "source": [
    "p1 = Person(\"Eric\")\n",
    "p2 = Person(\"Bob\")"
   ]
  },
  {
   "cell_type": "code",
   "execution_count": 80,
   "id": "16c671db",
   "metadata": {},
   "outputs": [],
   "source": [
    "p1.name = \"John\""
   ]
  },
  {
   "cell_type": "code",
   "execution_count": 81,
   "id": "5a795fb7",
   "metadata": {},
   "outputs": [
    {
     "data": {
      "text/plain": [
       "{'name': 'John'}"
      ]
     },
     "execution_count": 81,
     "metadata": {},
     "output_type": "execute_result"
    }
   ],
   "source": [
    "p1.__dict__"
   ]
  },
  {
   "cell_type": "code",
   "execution_count": 83,
   "id": "2a2dab07",
   "metadata": {},
   "outputs": [
    {
     "data": {
      "text/plain": [
       "{'name': 'John', 'say_hello': <function __main__.<lambda>()>}"
      ]
     },
     "execution_count": 83,
     "metadata": {},
     "output_type": "execute_result"
    }
   ],
   "source": [
    "p1.say_hello = lambda: \"Hello!\"\n",
    "p1.__dict__"
   ]
  },
  {
   "cell_type": "code",
   "execution_count": 87,
   "id": "4f70a997",
   "metadata": {},
   "outputs": [],
   "source": [
    "def say_hello(self):\n",
    "    return f\"{self.name} says YES!\""
   ]
  },
  {
   "cell_type": "code",
   "execution_count": 89,
   "id": "a05e1e3b",
   "metadata": {},
   "outputs": [
    {
     "data": {
      "text/plain": [
       "'Bob says YES!'"
      ]
     },
     "execution_count": 89,
     "metadata": {},
     "output_type": "execute_result"
    }
   ],
   "source": [
    "say_hello(p2)"
   ]
  },
  {
   "cell_type": "code",
   "execution_count": 90,
   "id": "ce14406b",
   "metadata": {},
   "outputs": [],
   "source": [
    "p1_say_hello = MethodType(say_hello, p1)"
   ]
  },
  {
   "cell_type": "code",
   "execution_count": 95,
   "id": "2fe45e94",
   "metadata": {},
   "outputs": [
    {
     "data": {
      "text/plain": [
       "{'name': 'Eric',\n",
       " 'say_hello': <bound method say_hello of <__main__.Person object at 0x0000020794FB3430>>}"
      ]
     },
     "execution_count": 95,
     "metadata": {},
     "output_type": "execute_result"
    }
   ],
   "source": [
    "p1.__dict__"
   ]
  },
  {
   "cell_type": "code",
   "execution_count": 92,
   "id": "45ca8b46",
   "metadata": {},
   "outputs": [
    {
     "data": {
      "text/plain": [
       "mappingproxy({'__module__': '__main__',\n",
       "              '__init__': <function __main__.Person.__init__(self, name)>,\n",
       "              '__dict__': <attribute '__dict__' of 'Person' objects>,\n",
       "              '__weakref__': <attribute '__weakref__' of 'Person' objects>,\n",
       "              '__doc__': None})"
      ]
     },
     "execution_count": 92,
     "metadata": {},
     "output_type": "execute_result"
    }
   ],
   "source": [
    "Person.__dict__"
   ]
  },
  {
   "cell_type": "code",
   "execution_count": 93,
   "id": "652e0599",
   "metadata": {},
   "outputs": [],
   "source": [
    "p1.say_hello = p1_say_hello"
   ]
  },
  {
   "cell_type": "code",
   "execution_count": 94,
   "id": "dc6e7eb1",
   "metadata": {},
   "outputs": [
    {
     "data": {
      "text/plain": [
       "'Eric says YES!'"
      ]
     },
     "execution_count": 94,
     "metadata": {},
     "output_type": "execute_result"
    }
   ],
   "source": [
    "p1.say_hello()"
   ]
  },
  {
   "cell_type": "code",
   "execution_count": null,
   "id": "89059f99",
   "metadata": {},
   "outputs": [],
   "source": []
  },
  {
   "cell_type": "code",
   "execution_count": null,
   "id": "60431737",
   "metadata": {},
   "outputs": [],
   "source": []
  }
 ],
 "metadata": {
  "kernelspec": {
   "display_name": "pandas-env",
   "language": "python",
   "name": "pandas-env"
  },
  "language_info": {
   "codemirror_mode": {
    "name": "ipython",
    "version": 3
   },
   "file_extension": ".py",
   "mimetype": "text/x-python",
   "name": "python",
   "nbconvert_exporter": "python",
   "pygments_lexer": "ipython3",
   "version": "3.8.13"
  }
 },
 "nbformat": 4,
 "nbformat_minor": 5
}
