{
 "cells": [
  {
   "cell_type": "markdown",
   "id": "10d16c95",
   "metadata": {},
   "source": [
    "### Project 1: Unit Testing\n",
    "\n",
    "TimeZone Class"
   ]
  },
  {
   "cell_type": "code",
   "execution_count": 1,
   "id": "e0be2046",
   "metadata": {},
   "outputs": [],
   "source": [
    "import numbers\n",
    "import itertools\n",
    "from datetime import timedelta\n",
    "from datetime import datetime\n",
    "\n",
    "class TimeZone:\n",
    "    def __init__(self, name, offset_hours, offset_minutes):\n",
    "        if name is None or len(str(name).strip()) == 0: \n",
    "            raise ValueError('TimeZone name cannot be empty')\n",
    "\n",
    "        self._name = str(name).strip()\n",
    "\n",
    "        if not isinstance(offset_hours, numbers.Integral):\n",
    "            raise ValueError(\"Hour offset must be an integer\")\n",
    "\n",
    "        if not isinstance(offset_minutes, numbers.Integral):\n",
    "            raise ValueError(\"Minutes offset must be an integer\")\n",
    "\n",
    "        if abs(offset_minutes) > 59 :\n",
    "            raise ValueError(\"Minutes offset must be [-59, 59].\")\n",
    "\n",
    "        offset = timedelta(hours=offset_hours, minutes=offset_minutes)\n",
    "        if offset < timedelta(hours=-12, minutes=0) or offset > timedelta(hours=14, minutes=0):\n",
    "            raise ValueError(\"Offset must be between -12.00 and 14.00\")\n",
    "\n",
    "        self._offset_hours = offset_hours\n",
    "        self._offset_minutes = offset_minutes\n",
    "        self._offset = offset\n",
    "\n",
    "    @property\n",
    "    def offset(self):\n",
    "        return self._offset\n",
    "\n",
    "    @property\n",
    "    def name(self):\n",
    "        return self._name\n",
    "\n",
    "    def __eq__(self, other):\n",
    "        return(isinstance(other, TimeZone) and\n",
    "               self.name == other.name and\n",
    "               self._offest_hours == other._offset_hours and\n",
    "               self._offset_minutes == other._offset_minutes)\n",
    "\n",
    "    def __repr__(self):\n",
    "        return(f\"TimeZone(name='{self.name}', \"\n",
    "               f\"offest_hours={self._offset_hours}, \"\n",
    "               f\"offset_minutes={self._offset_minutes})\")\n"
   ]
  },
  {
   "cell_type": "code",
   "execution_count": 2,
   "id": "21cf1aac-0c93-4b56-b406-05d73aced764",
   "metadata": {},
   "outputs": [],
   "source": [
    "class Account:\n",
    "    transaction_counter = itertools.count(100)\n",
    "\n",
    "    _interset_rate = 0.5 # percent\n",
    "\n",
    "    _transaction_codes = {\n",
    "        \"deposit\": \"D\",\n",
    "        \"withdraw\": \"W\",\n",
    "        \"interest\": \"I\",\n",
    "        \"rejected\": \"X\",\n",
    "    }\n",
    "\n",
    "    def __init__(self, account_number, first_name, last_name, timezone=None, \n",
    "                initial_balance=0):\n",
    "        self._account_number = account_number\n",
    "        self._first_name = first_name\n",
    "        self._last_name = last_name\n",
    "        # print(\"Account is created!\")\n",
    "\n",
    "        if timezone is None:\n",
    "            timezone = TimeZone('UTC', 0, 0)\n",
    "        self.timezone = timezone\n",
    "\n",
    "        self._balance = float(initial_balance)\n",
    "\n",
    "    @property\n",
    "    def account_number(self):\n",
    "        return self._account_number\n",
    "\n",
    "    @property\n",
    "    def first_name(self):\n",
    "        return self._first_name\n",
    "\n",
    "    @first_name.setter\n",
    "    def first_name(self, value):\n",
    "        # if len(str(value).strip()) == 0:\n",
    "        #     raise ValueError(\"First name cannot be empty!\")\n",
    "        # self._first_name = value\n",
    "        self._first_name = self.validate_and_set_name('_first_name', value, \"First Name\")\n",
    "\n",
    "    @property\n",
    "    def last_name(self):\n",
    "        return self._last_name\n",
    "\n",
    "    @last_name.setter\n",
    "    def last_name(self, value):\n",
    "        # if len(str(value).strip()) == 0:\n",
    "        #     raise ValueError(\"Last name cannot be empty!\")\n",
    "        # self._last_name = value\n",
    "        self._last_name = self.validate_and_set_name(\"_last_name\", value, \"Last Name\")\n",
    "\n",
    "    @property\n",
    "    def full_name(self):\n",
    "        return f\"{self.first_name} {self.last_name}\"\n",
    "    \n",
    "    @property\n",
    "    def balance(self):\n",
    "        return round(self._balance, 2)\n",
    "    \n",
    "    @property\n",
    "    def timezone(self):\n",
    "        return self._timezone\n",
    "\n",
    "    @timezone.setter\n",
    "    def timezone(self, value):\n",
    "        if not isinstance(value, TimeZone):\n",
    "            raise ValueError('Time must be valid')\n",
    "        self._timezone = value\n",
    "\n",
    "    @classmethod\n",
    "    def get_iterest_rate(cls):\n",
    "        return cls._interset_rate\n",
    "\n",
    "    @classmethod\n",
    "    def set_interest_rate(cls, value):\n",
    "        if not isinstance(value, numbers.Real):\n",
    "            raise ValueError(\"Interest rate must be a real number\")\n",
    "\n",
    "        if value < 0:\n",
    "            raise ValueError(\"must be above zero\")\n",
    "\n",
    "        cls._interset_rate = value\n",
    "\n",
    "    @staticmethod\n",
    "    def validate_real_number(value, min_value=None):\n",
    "        if not isinstance(value, numbers.Real):\n",
    "            raise ValueError(\"Value must be a real number\")\n",
    "\n",
    "        if min_value is not None and value < min_value:\n",
    "            raise ValueError(f\"Value must be at least {min_value}\")\n",
    "\n",
    "        return value\n",
    "    def generate_confirmation_code(self, transaction_code):\n",
    "        dt_str = datetime.utcnow().strftime(\"%Y%m%d%H%M%S\")\n",
    "        return f\"{transaction_code}-{self.account_number}-{dt_str}-{next(Account.transaction_counter)}\"\n",
    "        \n",
    "    # @staticmethod\n",
    "    def validate_and_set_name(self, attr_name, value, field_title):\n",
    "        if value is None or len(str(value).strip()) == 0:\n",
    "            raise ValueError(f\"{field_title} cannot be empty!\")\n",
    "        # return str(value).strip()\n",
    "        setattr(self, attr_name, value)\n",
    "\n",
    "    # def make_transaction(self):\n",
    "    #     return self.generate_confirmation_code(\"tummy\")\n",
    "\n",
    "    @staticmethod\n",
    "    def parse_confirmation_code(confiramtion_code, preferred_time_zone=None):\n",
    "        parts = confiramtion_code.split(\"-\")\n",
    "        if len(parts) != 4:\n",
    "            raise ValueError(\"Invalid confirmation code\")\n",
    "\n",
    "        transaction_code, account_number, raw_dt_utc, transaction_id = parts\n",
    "\n",
    "        try:\n",
    "            dt_utc = datetime.strptime(raw_dt_utc, \"%Y%m%d%H%M%S\")\n",
    "\n",
    "        except ValueError as ex:\n",
    "            raise ValueError(\"Invalid transaction datetime\") from ex\n",
    "\n",
    "        if preferred_time_zone is None:\n",
    "            preferred_time_zone = TimeZone(\"UTC\", 0, 0)\n",
    "\n",
    "        if not isinstance(preferred_time_zone, TimeZone):\n",
    "            raise ValueError(\"Invalid TimeZone provided.\")\n",
    "\n",
    "        dt_preferred = dt_utc + preferred_time_zone.offset\n",
    "        dt_preferred_str  = f\"{dt_preferred.strftime('%Y-%m-%d %H:%M:%S')} ({preferred_time_zone.name})\"\n",
    "\n",
    "        return Confirmation(account_number, transaction_code, transaction_id, dt_utc.isoformat(), dt_preferred_str)\n",
    "\n",
    "    def deposit(self, value):\n",
    "        \n",
    "        value = Account.validate_real_number(value, 0.01)\n",
    "            \n",
    "        transaction_code = self._transaction_codes['deposit']\n",
    "\n",
    "        conf_code = self.generate_confirmation_code(transaction_code)\n",
    "        self._balance += value\n",
    "\n",
    "        return conf_code\n",
    "\n",
    "    def withdraw(self, value):\n",
    "        # TODO: refactor to use common validation and in deposit method\n",
    "        value = Account.validate_real_number(value, 0.01)\n",
    "        accepted = False\n",
    "        if self.balance - value < 0:\n",
    "            transaction_code = self._transaction_codes['rejected']\n",
    "\n",
    "        else:\n",
    "            accepted = True\n",
    "            transaction_code = self._transaction_codes['withdraw']\n",
    "\n",
    "        conf_code = self.generate_confirmation_code(transaction_code)\n",
    "\n",
    "        if accepted:\n",
    "            self._balance -= value\n",
    "\n",
    "        return conf_code\n",
    "\n",
    "    def pay_interest(self):\n",
    "        interest = self.balance * self.get_iterest_rate() / 100\n",
    "        conf_code = self.generate_confirmation_code(self._transaction_codes['interest'])\n",
    "        self._balance += interest\n",
    "        return conf_code"
   ]
  },
  {
   "cell_type": "code",
   "execution_count": 3,
   "id": "60c1afed-01bf-4b85-96b4-4bf757f50d6f",
   "metadata": {},
   "outputs": [
    {
     "name": "stdout",
     "output_type": "stream",
     "text": [
      "120.0\n",
      "D-A100-20230703014707-100\n",
      "1.0\n",
      "I-A100-20230703014707-101\n",
      "222.22\n"
     ]
    }
   ],
   "source": [
    "a = Account(\"A100\", \"Rita\", \"Idle\", initial_balance=120, timezone=TimeZone(\"MST\", -7, 0))\n",
    "print(a.balance)\n",
    "print(a.deposit(100.02))\n",
    "Account.set_interest_rate(1.0)\n",
    "print(a.get_iterest_rate())\n",
    "print(a.pay_interest())\n",
    "print(a.balance)\n",
    "# assert"
   ]
  },
  {
   "cell_type": "code",
   "execution_count": 32,
   "id": "e2bf41f4-2fc7-40fb-87d1-af07207afac8",
   "metadata": {},
   "outputs": [
    {
     "name": "stdout",
     "output_type": "stream",
     "text": [
      "Value must be at least 0.01\n"
     ]
    }
   ],
   "source": [
    "try:\n",
    "    a.deposit(-100)\n",
    "except ValueError as ex:\n",
    "    print(ex)"
   ]
  },
  {
   "cell_type": "code",
   "execution_count": 28,
   "id": "f28a1d96-0b16-4278-aa15-a6c4d1071b4d",
   "metadata": {},
   "outputs": [
    {
     "data": {
      "text/plain": [
       "220.0"
      ]
     },
     "execution_count": 28,
     "metadata": {},
     "output_type": "execute_result"
    }
   ],
   "source": [
    "a.balance"
   ]
  },
  {
   "cell_type": "code",
   "execution_count": 29,
   "id": "26a7c05b-6949-46db-a9df-65bd7c7859b2",
   "metadata": {},
   "outputs": [
    {
     "data": {
      "text/plain": [
       "'X-A100-20230703005609-101'"
      ]
     },
     "execution_count": 29,
     "metadata": {},
     "output_type": "execute_result"
    }
   ],
   "source": [
    "a.withdraw(400)"
   ]
  },
  {
   "cell_type": "code",
   "execution_count": null,
   "id": "3fa258d4-33f9-4a7d-8ef4-1f7536bd1aef",
   "metadata": {},
   "outputs": [],
   "source": []
  },
  {
   "cell_type": "code",
   "execution_count": 27,
   "id": "2b7e324c-3339-4530-b392-fd4a90f40010",
   "metadata": {},
   "outputs": [
    {
     "name": "stdout",
     "output_type": "stream",
     "text": [
      "unconverted data remains: 0256\n",
      "Invalid transaction datetime\n"
     ]
    }
   ],
   "source": [
    "try:\n",
    "    Account.parse_confirmation_code(\"tummy-A100-20231629190256-101\")\n",
    "except ValueError as ex:\n",
    "    print(ex.__cause__)\n",
    "    print(ex)"
   ]
  },
  {
   "cell_type": "code",
   "execution_count": 15,
   "id": "ec2bef03-efa3-4844-8300-9f21789392dd",
   "metadata": {},
   "outputs": [
    {
     "data": {
      "text/plain": [
       "'tummy-A100-20230629182234-100'"
      ]
     },
     "execution_count": 15,
     "metadata": {},
     "output_type": "execute_result"
    }
   ],
   "source": [
    "a.make_transaction()"
   ]
  },
  {
   "cell_type": "code",
   "execution_count": 16,
   "id": "86f770ed-b483-4fa9-9803-82bbebd01890",
   "metadata": {},
   "outputs": [],
   "source": [
    "from collections import namedtuple\n",
    "\n",
    "Confirmation = namedtuple(\"Confiramtion\", \"account_number transaction_code transaction_id time_utc time\")"
   ]
  },
  {
   "cell_type": "code",
   "execution_count": 10,
   "id": "64cbb125-f79f-4246-aa1b-99cae929bc0e",
   "metadata": {},
   "outputs": [],
   "source": [
    "def generate_confirmation_code(account_number, transaction_id, transaction_code):\n",
    "    dt_str = datetime.utcnow().strftime(\"%Y%m%d%H%M%S\")\n",
    "    return f\"{transaction_code}-{account_number}-{dt_str}-{transaction_id}\""
   ]
  },
  {
   "cell_type": "code",
   "execution_count": 11,
   "id": "80be3d2d-b0e1-4de2-b0ec-0e48bb6d7987",
   "metadata": {},
   "outputs": [
    {
     "data": {
      "text/plain": [
       "'X-1234-20230629174424-10023'"
      ]
     },
     "execution_count": 11,
     "metadata": {},
     "output_type": "execute_result"
    }
   ],
   "source": [
    "generate_confirmation_code(1234, 10023, \"X\")"
   ]
  },
  {
   "cell_type": "code",
   "execution_count": 5,
   "id": "21a5f386-94fd-4e40-aee0-7fa7483fc0b8",
   "metadata": {},
   "outputs": [
    {
     "data": {
      "text/plain": [
       "0.5"
      ]
     },
     "execution_count": 5,
     "metadata": {},
     "output_type": "execute_result"
    }
   ],
   "source": [
    "Account.get_iterest_rate()"
   ]
  },
  {
   "cell_type": "code",
   "execution_count": 7,
   "id": "c0530b22-77d5-4995-8300-a7172f11c8ae",
   "metadata": {},
   "outputs": [
    {
     "data": {
      "text/plain": [
       "11"
      ]
     },
     "execution_count": 7,
     "metadata": {},
     "output_type": "execute_result"
    }
   ],
   "source": [
    "Account.set_interest_rate(11)\n",
    "Account.get_iterest_rate()"
   ]
  },
  {
   "cell_type": "code",
   "execution_count": 10,
   "id": "90030a04-85eb-4a50-9eae-5d0d8cdefa6e",
   "metadata": {},
   "outputs": [
    {
     "name": "stdout",
     "output_type": "stream",
     "text": [
      "Time must be valid\n"
     ]
    }
   ],
   "source": [
    "try:\n",
    "    a = Account(123, \"July\", \"Clark\", \"-7.00\")\n",
    "except ValueError as ex:\n",
    "    print(ex)"
   ]
  },
  {
   "cell_type": "code",
   "execution_count": 13,
   "id": "1c3ec20c-7459-45ad-96f8-0bd7129bbbe1",
   "metadata": {},
   "outputs": [],
   "source": [
    "b = Account('23211', \"Bob\", \"Dilan\")\n"
   ]
  },
  {
   "cell_type": "code",
   "execution_count": 14,
   "id": "e8fd10c2-7e99-4ce7-b4a7-87b1a9020d31",
   "metadata": {},
   "outputs": [
    {
     "data": {
      "text/plain": [
       "0.5"
      ]
     },
     "execution_count": 14,
     "metadata": {},
     "output_type": "execute_result"
    }
   ],
   "source": [
    "b.interset_rate"
   ]
  },
  {
   "cell_type": "code",
   "execution_count": 8,
   "id": "759601f6-10fd-4b73-a4b4-4272416771a0",
   "metadata": {},
   "outputs": [
    {
     "data": {
      "text/plain": [
       "'Bob Dilan'"
      ]
     },
     "execution_count": 8,
     "metadata": {},
     "output_type": "execute_result"
    }
   ],
   "source": [
    "b.full_name"
   ]
  },
  {
   "cell_type": "code",
   "execution_count": 3,
   "id": "27e2b3f9",
   "metadata": {},
   "outputs": [
    {
     "data": {
      "text/plain": [
       "'ABC'"
      ]
     },
     "execution_count": 3,
     "metadata": {},
     "output_type": "execute_result"
    }
   ],
   "source": [
    "tz1 = TimeZone(\"ABC\", -2, -15)\n",
    "tz1.name"
   ]
  },
  {
   "cell_type": "code",
   "execution_count": 4,
   "id": "1543e194-85ae-44ba-96c4-9c6f0bcb0210",
   "metadata": {},
   "outputs": [
    {
     "name": "stdout",
     "output_type": "stream",
     "text": [
      "2023-05-10 01:09:41.742426\n"
     ]
    }
   ],
   "source": [
    "from datetime import datetime\n",
    "\n",
    "dt = datetime.utcnow()\n",
    "print(dt)"
   ]
  },
  {
   "cell_type": "code",
   "execution_count": 5,
   "id": "a0e2a14e-2ea6-4dff-b563-ec35976ceacb",
   "metadata": {},
   "outputs": [
    {
     "name": "stdout",
     "output_type": "stream",
     "text": [
      "2023-05-09 22:54:41.742426\n"
     ]
    }
   ],
   "source": [
    "print(dt + tz1.offset)"
   ]
  },
  {
   "cell_type": "code",
   "execution_count": 6,
   "id": "07238e3c-c0bc-4f13-85df-5834294166d1",
   "metadata": {},
   "outputs": [
    {
     "name": "stdout",
     "output_type": "stream",
     "text": [
      "TimeZone name cannot be empty\n"
     ]
    }
   ],
   "source": [
    "try:\n",
    "    tz = TimeZone(\"\", 1, 10)\n",
    "except ValueError as ex:\n",
    "    print(ex)"
   ]
  },
  {
   "cell_type": "code",
   "execution_count": 8,
   "id": "17f5388d-c191-43d4-905a-d9c4c5cb9c4a",
   "metadata": {},
   "outputs": [],
   "source": [
    "class TransactionID:\n",
    "    def __init__(self, start_id):\n",
    "        self._start_id = start_id\n",
    "\n",
    "    def next(self):\n",
    "        self._start_id += 1\n",
    "        return self._start_id"
   ]
  },
  {
   "cell_type": "code",
   "execution_count": 9,
   "id": "80e9ea94-7f2d-4609-be05-f0d85d0f78b2",
   "metadata": {},
   "outputs": [],
   "source": [
    "class Account:\n",
    "    transaction_counter = TransactionID(100)\n",
    "\n",
    "    def make_transaction(self):\n",
    "        new_trans_id = Account.transaction_counter.next()\n",
    "        return new_trans_id"
   ]
  },
  {
   "cell_type": "code",
   "execution_count": 14,
   "id": "8ce90755-747f-45d6-a0e5-26ffa5cd9908",
   "metadata": {},
   "outputs": [],
   "source": [
    "ac1 = Account()\n",
    "ac2 = Account()"
   ]
  },
  {
   "cell_type": "code",
   "execution_count": 15,
   "id": "4376a2d5-3fce-4b32-9de5-6a5b65849903",
   "metadata": {},
   "outputs": [
    {
     "name": "stdout",
     "output_type": "stream",
     "text": [
      "101\n",
      "102\n"
     ]
    }
   ],
   "source": [
    "print(ac1.make_transaction())\n",
    "print(ac2.make_transaction())"
   ]
  },
  {
   "cell_type": "code",
   "execution_count": 12,
   "id": "641d9c38-0d03-480b-908c-f722a73a393a",
   "metadata": {},
   "outputs": [],
   "source": [
    "def transaction_ids(start_id):\n",
    "    while True:\n",
    "        start_id += 1\n",
    "        yield start_id"
   ]
  },
  {
   "cell_type": "code",
   "execution_count": 13,
   "id": "e6be1a71-318c-4ad1-a0c2-70ea8414dc9a",
   "metadata": {},
   "outputs": [],
   "source": [
    "class Account:\n",
    "    transaction_counter = transaction_ids(100)\n",
    "\n",
    "    def make_transaction(self):\n",
    "        new_trans_id = next(Account.transaction_counter)\n",
    "        return new_trans_id"
   ]
  },
  {
   "cell_type": "markdown",
   "id": "72d1deed-f2d3-43ed-9cdf-eeafb0df9678",
   "metadata": {},
   "source": [
    "Using module `itertools`"
   ]
  },
  {
   "cell_type": "code",
   "execution_count": 17,
   "id": "130e4d3d-4336-42a1-ae00-eb22fa1cd8c3",
   "metadata": {},
   "outputs": [],
   "source": [
    "import itertools\n",
    "\n",
    "class Account:\n",
    "    transaction_counter = itertools.count(100)\n",
    "\n",
    "    def make_transaction(self):\n",
    "        new_trans_id = next(Account.transaction_counter)\n",
    "        return new_trans_id"
   ]
  },
  {
   "cell_type": "code",
   "execution_count": 18,
   "id": "e82e9f3c-4787-485c-8a69-874278f0add8",
   "metadata": {},
   "outputs": [
    {
     "name": "stdout",
     "output_type": "stream",
     "text": [
      "100\n",
      "101\n",
      "102\n"
     ]
    }
   ],
   "source": [
    "ac1 = Account()\n",
    "ac2 = Account()\n",
    "\n",
    "print(ac1.make_transaction())\n",
    "print(ac2.make_transaction())\n",
    "print(ac2.make_transaction())"
   ]
  },
  {
   "cell_type": "code",
   "execution_count": null,
   "id": "db6016e3-0138-42a0-8c03-d8602ec8f7cc",
   "metadata": {},
   "outputs": [],
   "source": []
  },
  {
   "cell_type": "code",
   "execution_count": null,
   "id": "8cf68958-c473-4b5f-8106-85fe16229433",
   "metadata": {},
   "outputs": [],
   "source": []
  }
 ],
 "metadata": {
  "kernelspec": {
   "display_name": "Python 3 (ipykernel)",
   "language": "python",
   "name": "python3"
  },
  "language_info": {
   "codemirror_mode": {
    "name": "ipython",
    "version": 3
   },
   "file_extension": ".py",
   "mimetype": "text/x-python",
   "name": "python",
   "nbconvert_exporter": "python",
   "pygments_lexer": "ipython3",
   "version": "3.9.12"
  }
 },
 "nbformat": 4,
 "nbformat_minor": 5
}
