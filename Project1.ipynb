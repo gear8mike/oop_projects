{
 "cells": [
  {
   "cell_type": "markdown",
   "id": "10d16c95",
   "metadata": {},
   "source": [
    "### Project 1\n",
    "\n",
    "TimeZone Class"
   ]
  },
  {
   "cell_type": "code",
   "execution_count": 2,
   "id": "de688214",
   "metadata": {},
   "outputs": [],
   "source": [
    "import numbers\n",
    "import itertools\n",
    "from datetime import timedelta"
   ]
  },
  {
   "cell_type": "code",
   "execution_count": 4,
   "id": "e0be2046",
   "metadata": {},
   "outputs": [],
   "source": [
    "class TimeZone:\n",
    "    def __init__(self, name, offset_hours, offset_minutes):\n",
    "        if name is None or len(str(name).strip()) == 0: \n",
    "            raise ValueError('TimeZone name cannot be empty')\n",
    "\n",
    "        self._name = str(name).strip()\n",
    "\n",
    "        if not isinstance(offset_hours, numbers.Integral):\n",
    "            raise ValueError(\"Hour offset must be an integer\")\n",
    "\n",
    "        if not isinstance(offset_minutes, numbers.Integral):\n",
    "            raise ValueError(\"Minutes offset must be an integer\")\n",
    "\n",
    "        if abs(offset_minutes) > 59 :\n",
    "            raise ValueError(\"Minutes offset must be [-59, 59].\")\n",
    "\n",
    "        offset = timedelta(hours=offset_hours, minutes=offset_minutes)\n",
    "        if offset < timedelta(hours=-12, minutes=0) or offset > timedelta(hours=14, minutes=0):\n",
    "            raise ValueError(\"Offset must be between -12.00 and 14.00\")\n",
    "\n",
    "        self._offset_hours = offset_hours\n",
    "        self._offset_minutes = offset_minutes\n",
    "        self._offset = offset\n",
    "\n",
    "    @property\n",
    "    def offset(self):\n",
    "        return self._offset\n",
    "\n",
    "    @property\n",
    "    def name(self):\n",
    "        return self._name\n",
    "\n",
    "    def __eq__(self, other):\n",
    "        return(isinstance(other, TimeZone) and\n",
    "               self.name == other.name and\n",
    "               self._offest_hours == other._offset_hours and\n",
    "               self._offset_minutes == other._offset_minutes)\n",
    "\n",
    "    def __repr__(self):\n",
    "        return(f\"TimeZone(name='{self.name}', \"\n",
    "               f\"offest_hours={self._offset_hours}, \"\n",
    "               f\"offset_minutes={self._offset_minutes})\")\n"
   ]
  },
  {
   "cell_type": "code",
   "execution_count": 12,
   "id": "25f14c3b-0d5a-4368-818b-bd3426d33e3c",
   "metadata": {},
   "outputs": [],
   "source": [
    "class Account:\n",
    "    transaction_counter = itertools.count(100)\n",
    "\n",
    "    interset_rate = 0.5 # percent\n",
    "\n",
    "    def __init__(self, account_number, first_name, last_name, timezone=None, \n",
    "                initial_balance=0):\n",
    "        self._account_number = account_number\n",
    "        self._first_name = first_name\n",
    "        self._last_name = last_name\n",
    "        # print(\"Account is created!\")\n",
    "\n",
    "        if timezone is None:\n",
    "            timezone = TimeZone('UTC', 0, 0)\n",
    "        self.timezone = timezone\n",
    "\n",
    "        self._balance = float(initial_balance)\n",
    "\n",
    "    @property\n",
    "    def account_number(self):\n",
    "        return self._account_number\n",
    "\n",
    "    @property\n",
    "    def first_name(self):\n",
    "        return self._first_name\n",
    "\n",
    "    @first_name.setter\n",
    "    def first_name(self, value):\n",
    "        # if len(str(value).strip()) == 0:\n",
    "        #     raise ValueError(\"First name cannot be empty!\")\n",
    "        # self._first_name = value\n",
    "        self._first_name = self.validate_and_set_name('_first_name', value, \"First Name\")\n",
    "\n",
    "    @property\n",
    "    def last_name(self):\n",
    "        return self._last_name\n",
    "\n",
    "    @last_name.setter\n",
    "    def last_name(self, value):\n",
    "        # if len(str(value).strip()) == 0:\n",
    "        #     raise ValueError(\"Last name cannot be empty!\")\n",
    "        # self._last_name = value\n",
    "        self._last_name = self.validate_and_set_name(\"_last_name\", value, \"Last Name\")\n",
    "\n",
    "    @property\n",
    "    def full_name(self):\n",
    "        return f\"{self.first_name} {self.last_name}\"\n",
    "    \n",
    "    @property\n",
    "    def balance(self):\n",
    "        return self._balance\n",
    "    \n",
    "    @property\n",
    "    def timezone(self):\n",
    "        return self._timezone\n",
    "\n",
    "    @timezone.setter\n",
    "    def timezone(self, value):\n",
    "        if not isinstance(value, TimeZone):\n",
    "            raise ValueError('Time must be valid')\n",
    "        self._timezone = value\n",
    "        \n",
    "        \n",
    "    # @staticmethod\n",
    "    def validate_and_set_name(self, attr_name, value, field_title):\n",
    "        if value is None or len(str(value).strip()) == 0:\n",
    "            raise ValueError(f\"{field_title} cannot be empty!\")\n",
    "        # return str(value).strip()\n",
    "        setattr(self, attr_name, value)"
   ]
  },
  {
   "cell_type": "code",
   "execution_count": 15,
   "id": "21cf1aac-0c93-4b56-b406-05d73aced764",
   "metadata": {},
   "outputs": [],
   "source": [
    "class Account:\n",
    "    transaction_counter = itertools.count(100)\n",
    "\n",
    "    _interset_rate = 0.5 # percent\n",
    "\n",
    "    def __init__(self, account_number, first_name, last_name, timezone=None, \n",
    "                initial_balance=0):\n",
    "        self._account_number = account_number\n",
    "        self._first_name = first_name\n",
    "        self._last_name = last_name\n",
    "        # print(\"Account is created!\")\n",
    "\n",
    "        if timezone is None:\n",
    "            timezone = TimeZone('UTC', 0, 0)\n",
    "        self.timezone = timezone\n",
    "\n",
    "        self._balance = float(initial_balance)\n",
    "\n",
    "    @property\n",
    "    def account_number(self):\n",
    "        return self._account_number\n",
    "\n",
    "    @property\n",
    "    def first_name(self):\n",
    "        return self._first_name\n",
    "\n",
    "    @first_name.setter\n",
    "    def first_name(self, value):\n",
    "        # if len(str(value).strip()) == 0:\n",
    "        #     raise ValueError(\"First name cannot be empty!\")\n",
    "        # self._first_name = value\n",
    "        self._first_name = self.validate_and_set_name('_first_name', value, \"First Name\")\n",
    "\n",
    "    @property\n",
    "    def last_name(self):\n",
    "        return self._last_name\n",
    "\n",
    "    @last_name.setter\n",
    "    def last_name(self, value):\n",
    "        # if len(str(value).strip()) == 0:\n",
    "        #     raise ValueError(\"Last name cannot be empty!\")\n",
    "        # self._last_name = value\n",
    "        self._last_name = self.validate_and_set_name(\"_last_name\", value, \"Last Name\")\n",
    "\n",
    "    @property\n",
    "    def full_name(self):\n",
    "        return f\"{self.first_name} {self.last_name}\"\n",
    "    \n",
    "    @property\n",
    "    def balance(self):\n",
    "        return self._balance\n",
    "    \n",
    "    @property\n",
    "    def timezone(self):\n",
    "        return self._timezone\n",
    "\n",
    "    @timezone.setter\n",
    "    def timezone(self, value):\n",
    "        if not isinstance(value, TimeZone):\n",
    "            raise ValueError('Time must be valid')\n",
    "        self._timezone = value\n",
    "\n",
    "    @classmethod\n",
    "    def get_iterest_rate(cls):\n",
    "        return cls._interset_rate\n",
    "\n",
    "    @classmethod\n",
    "    def set_interest_rate(cls, value):\n",
    "        if not isinstance(value, numbers.Real):\n",
    "            raise ValueError(\"Interest rate must be a real number\")\n",
    "\n",
    "        if value < 0:\n",
    "            raise ValueError(\"must be above zero\")\n",
    "\n",
    "        cls._interset_rate = value\n",
    "\n",
    "    # @staticmethod\n",
    "    def validate_and_set_name(self, attr_name, value, field_title):\n",
    "        if value is None or len(str(value).strip()) == 0:\n",
    "            raise ValueError(f\"{field_title} cannot be empty!\")\n",
    "        # return str(value).strip()\n",
    "        setattr(self, attr_name, value)"
   ]
  },
  {
   "cell_type": "code",
   "execution_count": 16,
   "id": "21a5f386-94fd-4e40-aee0-7fa7483fc0b8",
   "metadata": {},
   "outputs": [
    {
     "data": {
      "text/plain": [
       "0.5"
      ]
     },
     "execution_count": 16,
     "metadata": {},
     "output_type": "execute_result"
    }
   ],
   "source": [
    "Account.get_iterest_rate()"
   ]
  },
  {
   "cell_type": "code",
   "execution_count": 19,
   "id": "c0530b22-77d5-4995-8300-a7172f11c8ae",
   "metadata": {},
   "outputs": [
    {
     "ename": "ValueError",
     "evalue": "must be above zero",
     "output_type": "error",
     "traceback": [
      "\u001b[1;31m---------------------------------------------------------------------------\u001b[0m",
      "\u001b[1;31mValueError\u001b[0m                                Traceback (most recent call last)",
      "Input \u001b[1;32mIn [19]\u001b[0m, in \u001b[0;36m<cell line: 1>\u001b[1;34m()\u001b[0m\n\u001b[1;32m----> 1\u001b[0m \u001b[43mAccount\u001b[49m\u001b[38;5;241;43m.\u001b[39;49m\u001b[43mset_interest_rate\u001b[49m\u001b[43m(\u001b[49m\u001b[38;5;241;43m-\u001b[39;49m\u001b[38;5;241;43m11\u001b[39;49m\u001b[43m)\u001b[49m\n\u001b[0;32m      2\u001b[0m Account\u001b[38;5;241m.\u001b[39mget_iterest_rate()\n",
      "Input \u001b[1;32mIn [15]\u001b[0m, in \u001b[0;36mAccount.set_interest_rate\u001b[1;34m(cls, value)\u001b[0m\n\u001b[0;32m     70\u001b[0m     \u001b[38;5;28;01mraise\u001b[39;00m \u001b[38;5;167;01mValueError\u001b[39;00m(\u001b[38;5;124m\"\u001b[39m\u001b[38;5;124mInterest rate must be a real number\u001b[39m\u001b[38;5;124m\"\u001b[39m)\n\u001b[0;32m     72\u001b[0m \u001b[38;5;28;01mif\u001b[39;00m value \u001b[38;5;241m<\u001b[39m \u001b[38;5;241m0\u001b[39m:\n\u001b[1;32m---> 73\u001b[0m     \u001b[38;5;28;01mraise\u001b[39;00m \u001b[38;5;167;01mValueError\u001b[39;00m(\u001b[38;5;124m\"\u001b[39m\u001b[38;5;124mmust be above zero\u001b[39m\u001b[38;5;124m\"\u001b[39m)\n\u001b[0;32m     75\u001b[0m \u001b[38;5;28mcls\u001b[39m\u001b[38;5;241m.\u001b[39m_interset_rate \u001b[38;5;241m=\u001b[39m value\n",
      "\u001b[1;31mValueError\u001b[0m: must be above zero"
     ]
    }
   ],
   "source": [
    "Account.set_interest_rate(-11)\n",
    "Account.get_iterest_rate()"
   ]
  },
  {
   "cell_type": "code",
   "execution_count": 10,
   "id": "90030a04-85eb-4a50-9eae-5d0d8cdefa6e",
   "metadata": {},
   "outputs": [
    {
     "name": "stdout",
     "output_type": "stream",
     "text": [
      "Time must be valid\n"
     ]
    }
   ],
   "source": [
    "try:\n",
    "    a = Account(123, \"July\", \"Clark\", \"-7.00\")\n",
    "except ValueError as ex:\n",
    "    print(ex)"
   ]
  },
  {
   "cell_type": "code",
   "execution_count": 13,
   "id": "1c3ec20c-7459-45ad-96f8-0bd7129bbbe1",
   "metadata": {},
   "outputs": [],
   "source": [
    "b = Account('23211', \"Bob\", \"Dilan\")\n"
   ]
  },
  {
   "cell_type": "code",
   "execution_count": 14,
   "id": "e8fd10c2-7e99-4ce7-b4a7-87b1a9020d31",
   "metadata": {},
   "outputs": [
    {
     "data": {
      "text/plain": [
       "0.5"
      ]
     },
     "execution_count": 14,
     "metadata": {},
     "output_type": "execute_result"
    }
   ],
   "source": [
    "b.interset_rate"
   ]
  },
  {
   "cell_type": "code",
   "execution_count": 8,
   "id": "759601f6-10fd-4b73-a4b4-4272416771a0",
   "metadata": {},
   "outputs": [
    {
     "data": {
      "text/plain": [
       "'Bob Dilan'"
      ]
     },
     "execution_count": 8,
     "metadata": {},
     "output_type": "execute_result"
    }
   ],
   "source": [
    "b.full_name"
   ]
  },
  {
   "cell_type": "code",
   "execution_count": 3,
   "id": "27e2b3f9",
   "metadata": {},
   "outputs": [
    {
     "data": {
      "text/plain": [
       "'ABC'"
      ]
     },
     "execution_count": 3,
     "metadata": {},
     "output_type": "execute_result"
    }
   ],
   "source": [
    "tz1 = TimeZone(\"ABC\", -2, -15)\n",
    "tz1.name"
   ]
  },
  {
   "cell_type": "code",
   "execution_count": 4,
   "id": "1543e194-85ae-44ba-96c4-9c6f0bcb0210",
   "metadata": {},
   "outputs": [
    {
     "name": "stdout",
     "output_type": "stream",
     "text": [
      "2023-05-10 01:09:41.742426\n"
     ]
    }
   ],
   "source": [
    "from datetime import datetime\n",
    "\n",
    "dt = datetime.utcnow()\n",
    "print(dt)"
   ]
  },
  {
   "cell_type": "code",
   "execution_count": 5,
   "id": "a0e2a14e-2ea6-4dff-b563-ec35976ceacb",
   "metadata": {},
   "outputs": [
    {
     "name": "stdout",
     "output_type": "stream",
     "text": [
      "2023-05-09 22:54:41.742426\n"
     ]
    }
   ],
   "source": [
    "print(dt + tz1.offset)"
   ]
  },
  {
   "cell_type": "code",
   "execution_count": 6,
   "id": "07238e3c-c0bc-4f13-85df-5834294166d1",
   "metadata": {},
   "outputs": [
    {
     "name": "stdout",
     "output_type": "stream",
     "text": [
      "TimeZone name cannot be empty\n"
     ]
    }
   ],
   "source": [
    "try:\n",
    "    tz = TimeZone(\"\", 1, 10)\n",
    "except ValueError as ex:\n",
    "    print(ex)"
   ]
  },
  {
   "cell_type": "code",
   "execution_count": 8,
   "id": "17f5388d-c191-43d4-905a-d9c4c5cb9c4a",
   "metadata": {},
   "outputs": [],
   "source": [
    "class TransactionID:\n",
    "    def __init__(self, start_id):\n",
    "        self._start_id = start_id\n",
    "\n",
    "    def next(self):\n",
    "        self._start_id += 1\n",
    "        return self._start_id"
   ]
  },
  {
   "cell_type": "code",
   "execution_count": 9,
   "id": "80e9ea94-7f2d-4609-be05-f0d85d0f78b2",
   "metadata": {},
   "outputs": [],
   "source": [
    "class Account:\n",
    "    transaction_counter = TransactionID(100)\n",
    "\n",
    "    def make_transaction(self):\n",
    "        new_trans_id = Account.transaction_counter.next()\n",
    "        return new_trans_id"
   ]
  },
  {
   "cell_type": "code",
   "execution_count": 14,
   "id": "8ce90755-747f-45d6-a0e5-26ffa5cd9908",
   "metadata": {},
   "outputs": [],
   "source": [
    "ac1 = Account()\n",
    "ac2 = Account()"
   ]
  },
  {
   "cell_type": "code",
   "execution_count": 15,
   "id": "4376a2d5-3fce-4b32-9de5-6a5b65849903",
   "metadata": {},
   "outputs": [
    {
     "name": "stdout",
     "output_type": "stream",
     "text": [
      "101\n",
      "102\n"
     ]
    }
   ],
   "source": [
    "print(ac1.make_transaction())\n",
    "print(ac2.make_transaction())"
   ]
  },
  {
   "cell_type": "code",
   "execution_count": 12,
   "id": "641d9c38-0d03-480b-908c-f722a73a393a",
   "metadata": {},
   "outputs": [],
   "source": [
    "def transaction_ids(start_id):\n",
    "    while True:\n",
    "        start_id += 1\n",
    "        yield start_id"
   ]
  },
  {
   "cell_type": "code",
   "execution_count": 13,
   "id": "e6be1a71-318c-4ad1-a0c2-70ea8414dc9a",
   "metadata": {},
   "outputs": [],
   "source": [
    "class Account:\n",
    "    transaction_counter = transaction_ids(100)\n",
    "\n",
    "    def make_transaction(self):\n",
    "        new_trans_id = next(Account.transaction_counter)\n",
    "        return new_trans_id"
   ]
  },
  {
   "cell_type": "markdown",
   "id": "72d1deed-f2d3-43ed-9cdf-eeafb0df9678",
   "metadata": {},
   "source": [
    "Using module `itertools`"
   ]
  },
  {
   "cell_type": "code",
   "execution_count": 17,
   "id": "130e4d3d-4336-42a1-ae00-eb22fa1cd8c3",
   "metadata": {},
   "outputs": [],
   "source": [
    "import itertools\n",
    "\n",
    "class Account:\n",
    "    transaction_counter = itertools.count(100)\n",
    "\n",
    "    def make_transaction(self):\n",
    "        new_trans_id = next(Account.transaction_counter)\n",
    "        return new_trans_id"
   ]
  },
  {
   "cell_type": "code",
   "execution_count": 18,
   "id": "e82e9f3c-4787-485c-8a69-874278f0add8",
   "metadata": {},
   "outputs": [
    {
     "name": "stdout",
     "output_type": "stream",
     "text": [
      "100\n",
      "101\n",
      "102\n"
     ]
    }
   ],
   "source": [
    "ac1 = Account()\n",
    "ac2 = Account()\n",
    "\n",
    "print(ac1.make_transaction())\n",
    "print(ac2.make_transaction())\n",
    "print(ac2.make_transaction())"
   ]
  },
  {
   "cell_type": "code",
   "execution_count": null,
   "id": "db6016e3-0138-42a0-8c03-d8602ec8f7cc",
   "metadata": {},
   "outputs": [],
   "source": []
  },
  {
   "cell_type": "code",
   "execution_count": null,
   "id": "8cf68958-c473-4b5f-8106-85fe16229433",
   "metadata": {},
   "outputs": [],
   "source": []
  }
 ],
 "metadata": {
  "kernelspec": {
   "display_name": "Python 3 (ipykernel)",
   "language": "python",
   "name": "python3"
  },
  "language_info": {
   "codemirror_mode": {
    "name": "ipython",
    "version": 3
   },
   "file_extension": ".py",
   "mimetype": "text/x-python",
   "name": "python",
   "nbconvert_exporter": "python",
   "pygments_lexer": "ipython3",
   "version": "3.9.12"
  }
 },
 "nbformat": 4,
 "nbformat_minor": 5
}
