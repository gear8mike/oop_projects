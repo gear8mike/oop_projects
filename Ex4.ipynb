{
 "cells": [
  {
   "cell_type": "markdown",
   "id": "d78ca36e-61e4-4b8d-8907-660b5eb5006e",
   "metadata": {},
   "source": [
    "`__str__` vs `__repr__`"
   ]
  },
  {
   "cell_type": "code",
   "execution_count": 12,
   "id": "0c7f84d8-295f-4975-99ff-6fe0183a8c0f",
   "metadata": {},
   "outputs": [],
   "source": [
    "class Person:\n",
    "    def __init__(self, name, age):\n",
    "        self.name = name\n",
    "        self.age = age\n",
    "\n",
    "    def __repr__(self):\n",
    "        print(\"__repr__ called\")\n",
    "        return f\"Person(name='{self.name}', age={self.age})\"\n",
    "\n",
    "    def __str__(self):\n",
    "        print(\"__str__ called\")\n",
    "        return self.name"
   ]
  },
  {
   "cell_type": "code",
   "execution_count": 1,
   "id": "8b07a0fc-b62f-4dc1-abd4-76ebf0c848ba",
   "metadata": {},
   "outputs": [],
   "source": [
    "from numbers import Real"
   ]
  },
  {
   "cell_type": "code",
   "execution_count": 4,
   "id": "1e2f8a16-3720-4e18-85c3-c8a90c3eede4",
   "metadata": {},
   "outputs": [],
   "source": [
    "class Vector:\n",
    "    def __init__(self, *components):\n",
    "        if len(components) < 1:\n",
    "            raise ValueError(\"Non empty Vector\")\n",
    "        for component in components:\n",
    "            if not isinstance(component, Real):\n",
    "                raise ValueError(f\"Vector components must be all real numbers. {component} is invalid\")\n",
    "        self._components = tuple(components)\n",
    "\n",
    "    def __len__(self):\n",
    "        return len(self._components)\n",
    "\n",
    "    @property\n",
    "    def components(self):\n",
    "        return self._components\n",
    "\n",
    "    def __repr__(self):\n",
    "        return f'Vector{self.components}'"
   ]
  },
  {
   "cell_type": "code",
   "execution_count": 7,
   "id": "afc77a4e-3415-44e7-9c74-7bd9c0ee1255",
   "metadata": {},
   "outputs": [],
   "source": [
    "v1 = Vector(1, 2)\n",
    "v2 = Vector(10, 20, 30, 40, 44)"
   ]
  },
  {
   "cell_type": "code",
   "execution_count": 8,
   "id": "cdb5d5fd-936f-4be5-97fa-553e7b17fa9a",
   "metadata": {},
   "outputs": [
    {
     "data": {
      "text/plain": [
       "(2, 5)"
      ]
     },
     "execution_count": 8,
     "metadata": {},
     "output_type": "execute_result"
    }
   ],
   "source": [
    "len(v1), len(v2)"
   ]
  },
  {
   "cell_type": "code",
   "execution_count": 10,
   "id": "140c64e8-0c60-45f7-809d-5ecb8430aa45",
   "metadata": {},
   "outputs": [
    {
     "data": {
      "text/plain": [
       "(Vector(1, 2), Vector(10, 20, 30, 40, 44))"
      ]
     },
     "execution_count": 10,
     "metadata": {},
     "output_type": "execute_result"
    }
   ],
   "source": [
    "v1, v2"
   ]
  },
  {
   "cell_type": "code",
   "execution_count": 13,
   "id": "9bca1df7-602d-4b17-b154-2b7b126cf080",
   "metadata": {},
   "outputs": [],
   "source": [
    "p = Person(\"Misha\", 33)"
   ]
  },
  {
   "cell_type": "code",
   "execution_count": 14,
   "id": "4d8c7765-cfdb-4850-bb81-0eac4d673f4f",
   "metadata": {},
   "outputs": [
    {
     "name": "stdout",
     "output_type": "stream",
     "text": [
      "__str__ called\n"
     ]
    },
    {
     "data": {
      "text/plain": [
       "'Hi Person Misha!'"
      ]
     },
     "execution_count": 14,
     "metadata": {},
     "output_type": "execute_result"
    }
   ],
   "source": [
    "f\"Hi Person {p}!\""
   ]
  },
  {
   "cell_type": "code",
   "execution_count": 7,
   "id": "846ed2bc-a3e5-4b14-b75b-f32e2f99d4f0",
   "metadata": {},
   "outputs": [
    {
     "name": "stdout",
     "output_type": "stream",
     "text": [
      "__str__ called\n",
      "Misha\n"
     ]
    }
   ],
   "source": [
    "print(p)"
   ]
  },
  {
   "cell_type": "code",
   "execution_count": 8,
   "id": "2dc2e41a-136b-45dc-882d-896fd71947da",
   "metadata": {},
   "outputs": [
    {
     "name": "stdout",
     "output_type": "stream",
     "text": [
      "__repr__ called\n"
     ]
    },
    {
     "data": {
      "text/plain": [
       "Person(name='Misha', age=33)"
      ]
     },
     "execution_count": 8,
     "metadata": {},
     "output_type": "execute_result"
    }
   ],
   "source": [
    "p"
   ]
  },
  {
   "cell_type": "code",
   "execution_count": 9,
   "id": "259d647b-3810-40fc-8597-dfb824185a82",
   "metadata": {},
   "outputs": [],
   "source": [
    "class Person:\n",
    "    pass\n",
    "\n",
    "class Point:\n",
    "    pass"
   ]
  },
  {
   "cell_type": "code",
   "execution_count": 10,
   "id": "d57c83c9-5b53-4dc2-bdc9-a621c7aa8537",
   "metadata": {},
   "outputs": [],
   "source": [
    "person = Person()\n",
    "point = Point()"
   ]
  },
  {
   "cell_type": "code",
   "execution_count": 11,
   "id": "13c696d8-4f90-42d4-bd08-60f6ffc1787c",
   "metadata": {},
   "outputs": [
    {
     "data": {
      "text/plain": [
       "(<__main__.Person at 0x1c1ac69fb20>, <__main__.Point at 0x1c1ac69fbe0>)"
      ]
     },
     "execution_count": 11,
     "metadata": {},
     "output_type": "execute_result"
    }
   ],
   "source": [
    "person, point"
   ]
  }
 ],
 "metadata": {
  "kernelspec": {
   "display_name": "Python 3 (ipykernel)",
   "language": "python",
   "name": "python3"
  },
  "language_info": {
   "codemirror_mode": {
    "name": "ipython",
    "version": 3
   },
   "file_extension": ".py",
   "mimetype": "text/x-python",
   "name": "python",
   "nbconvert_exporter": "python",
   "pygments_lexer": "ipython3",
   "version": "3.9.12"
  }
 },
 "nbformat": 4,
 "nbformat_minor": 5
}
