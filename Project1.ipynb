{
 "cells": [
  {
   "cell_type": "markdown",
   "id": "10d16c95",
   "metadata": {},
   "source": [
    "### Project 1\n",
    "\n",
    "TimeZone Class"
   ]
  },
  {
   "cell_type": "code",
   "execution_count": 8,
   "id": "de688214",
   "metadata": {},
   "outputs": [],
   "source": [
    "import numbers\n",
    "from datetime import timedelta"
   ]
  },
  {
   "cell_type": "code",
   "execution_count": 10,
   "id": "e0be2046",
   "metadata": {},
   "outputs": [],
   "source": [
    "class TimeZone:\n",
    "    def __init__(self, name, offset_hours, offset_minutes):\n",
    "        if name is None or len(str(name).strip()) == 0: \n",
    "            raise ValueError('TimeZone name cannot be empty')\n",
    "\n",
    "        self._name = str(name).strip()\n",
    "\n",
    "        if not isinisinstance(offset_hours, numbers.Integral):\n",
    "            raise ValueError(\"Hour offset must be an integer\")\n",
    "\n",
    "        if not isinisinstance(offset_minutes, numbers.Integral):\n",
    "            raise ValueError(\"Minutes offset must be an integer\")\n",
    "\n",
    "        if abs(offset_minutes) > 59 :\n",
    "            raise ValueError(\"Minutes offset must be [-59, 59].\")"
   ]
  },
  {
   "cell_type": "code",
   "execution_count": 9,
   "id": "49f98fd3",
   "metadata": {},
   "outputs": [
    {
     "data": {
      "text/plain": [
       "9"
      ]
     },
     "execution_count": 9,
     "metadata": {},
     "output_type": "execute_result"
    }
   ],
   "source": [
    "abs(-9)"
   ]
  },
  {
   "cell_type": "code",
   "execution_count": null,
   "id": "27e2b3f9",
   "metadata": {},
   "outputs": [],
   "source": []
  }
 ],
 "metadata": {
  "kernelspec": {
   "display_name": "pandas-env",
   "language": "python",
   "name": "pandas-env"
  },
  "language_info": {
   "codemirror_mode": {
    "name": "ipython",
    "version": 3
   },
   "file_extension": ".py",
   "mimetype": "text/x-python",
   "name": "python",
   "nbconvert_exporter": "python",
   "pygments_lexer": "ipython3",
   "version": "3.8.13"
  }
 },
 "nbformat": 4,
 "nbformat_minor": 5
}
