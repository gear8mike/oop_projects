{
 "cells": [
  {
   "cell_type": "markdown",
   "id": "d78ca36e-61e4-4b8d-8907-660b5eb5006e",
   "metadata": {},
   "source": [
    "`__str__` vs `__repr__`"
   ]
  },
  {
   "cell_type": "code",
   "execution_count": 74,
   "id": "0c7f84d8-295f-4975-99ff-6fe0183a8c0f",
   "metadata": {},
   "outputs": [],
   "source": [
    "class Person:\n",
    "    def __init__(self, name, age):\n",
    "        self.name = name\n",
    "        self.age = age\n",
    "\n",
    "    def __repr__(self):\n",
    "        print(\"__repr__ called\")\n",
    "        return f\"Person(name='{self.name}', age={self.age})\"\n",
    "\n",
    "    def __str__(self):\n",
    "        print(\"__str__ called\")\n",
    "        return self.name"
   ]
  },
  {
   "cell_type": "code",
   "execution_count": 73,
   "id": "3a91705f-87e4-4918-a2d8-e558ae4ee887",
   "metadata": {},
   "outputs": [],
   "source": [
    "class Family:\n",
    "    def __init__(self, mother, father):\n",
    "        self.mother = mother\n",
    "        self.father = father\n",
    "        self.children = []\n",
    "\n",
    "    def __iadd__(self, other):\n",
    "        self.children.append(other)\n",
    "        return self"
   ]
  },
  {
   "cell_type": "code",
   "execution_count": 75,
   "id": "9d322337-4fb0-4eb6-9293-27c905ea5dfa",
   "metadata": {},
   "outputs": [],
   "source": [
    "f =Family(Person(\"Marry\", 23), Person(\"Peter\", 35))"
   ]
  },
  {
   "cell_type": "code",
   "execution_count": 76,
   "id": "1eebd02c-641e-4f1c-8029-0669de2db3b3",
   "metadata": {},
   "outputs": [],
   "source": [
    "f += Person(\"Eric\", 4)"
   ]
  },
  {
   "cell_type": "code",
   "execution_count": 77,
   "id": "f740ad28-1d31-403b-878b-eb2a262d98ad",
   "metadata": {},
   "outputs": [
    {
     "name": "stdout",
     "output_type": "stream",
     "text": [
      "__repr__ called\n"
     ]
    },
    {
     "data": {
      "text/plain": [
       "[Person(name='Eric', age=4)]"
      ]
     },
     "execution_count": 77,
     "metadata": {},
     "output_type": "execute_result"
    }
   ],
   "source": [
    "f.children"
   ]
  },
  {
   "cell_type": "code",
   "execution_count": 62,
   "id": "8b07a0fc-b62f-4dc1-abd4-76ebf0c848ba",
   "metadata": {},
   "outputs": [],
   "source": [
    "from numbers import Real\n",
    "from math import sqrt"
   ]
  },
  {
   "cell_type": "code",
   "execution_count": 68,
   "id": "1e2f8a16-3720-4e18-85c3-c8a90c3eede4",
   "metadata": {},
   "outputs": [],
   "source": [
    "class VectorDimensionMismatch(TypeError):\n",
    "    pass\n",
    "\n",
    "\n",
    "class Vector:\n",
    "    def __init__(self, *components):\n",
    "        if len(components) < 1:\n",
    "            raise ValueError(\"Non empty Vector\")\n",
    "        for component in components:\n",
    "            if not isinstance(component, Real):\n",
    "                raise ValueError(f\"Vector components must be all real numbers. {component} is invalid\")\n",
    "        self._components = tuple(components)\n",
    "\n",
    "    def __len__(self):\n",
    "        return len(self._components)\n",
    "\n",
    "    @property\n",
    "    def components(self):\n",
    "        return self._components\n",
    "\n",
    "    def __repr__(self):\n",
    "        return f'Vector{self.components}'\n",
    "\n",
    "    def validate_type_and_dimension(self, v):\n",
    "        return isinstance(v, Vector) and len(v) == len(self)\n",
    "    \n",
    "    def __add__(self, other):\n",
    "        if not self.validate_type_and_dimension(other):\n",
    "            # raise VectorDimensionMismatch(\"Vectors must be of the same dimensions\")\n",
    "            return NotImplemented\n",
    "        components = (x + y for x, y in zip(self.components, other.components))\n",
    "        return Vector(*components)\n",
    "\n",
    "    def __sub__(self, other):\n",
    "        if not self.validate_type_and_dimension(other):\n",
    "            # raise VectorDimensionMismatch(\"Vectors must be of the same dimensions\")\n",
    "            return NotImplemented\n",
    "        components = (x - y for x, y in zip(self.components, other.components))\n",
    "        return Vector(*components)\n",
    "\n",
    "    def __mul__(self, other):\n",
    "        print(\"__mul__ was called\")\n",
    "        if isinstance(other, Real):\n",
    "            components = (other * x for x in self.components)\n",
    "            return Vector(*components)\n",
    "        if self.validate_type_and_dimension(other):\n",
    "            components = (x * y for x, y in zip(self.components, other.components))\n",
    "            return sum(components)\n",
    "\n",
    "        return NotImplemented\n",
    "\n",
    "    def __matmul__(self, other):\n",
    "        print(\"__matmul__ operator!\")\n",
    "    \n",
    "    def __rmul__(self, other):\n",
    "        return self * other\n",
    "\n",
    "    def __iadd__(self, other):\n",
    "        print(\"__iadd__ called!\")\n",
    "        if self.validate_type_and_dimension(other):\n",
    "            components = (x + y for x, y in zip(self.components, other.components))\n",
    "            self._components = tuple(components)\n",
    "            return self\n",
    "        return NotImplemented\n",
    "\n",
    "    def __neg__(self):\n",
    "        print('__neg__ called.')\n",
    "        components = (-x for x in self.components)\n",
    "        return Vector(*components)\n",
    "\n",
    "    def __abs__(self):\n",
    "        print(\"__abs__ called ...\")\n",
    "        return sqrt(sum(x ** 2 for x in self.components))\n",
    "        "
   ]
  },
  {
   "cell_type": "code",
   "execution_count": 70,
   "id": "afc77a4e-3415-44e7-9c74-7bd9c0ee1255",
   "metadata": {},
   "outputs": [],
   "source": [
    "v1 = Vector(3, 4)\n",
    "v2 = Vector(10,20)\n",
    "v3 = Vector(10, 20, 30, 40, 44)"
   ]
  },
  {
   "cell_type": "code",
   "execution_count": 71,
   "id": "d4b2e5e4-a092-4016-9f6d-e1cb8d86779d",
   "metadata": {},
   "outputs": [
    {
     "name": "stdout",
     "output_type": "stream",
     "text": [
      "__abs__ called ...\n"
     ]
    },
    {
     "data": {
      "text/plain": [
       "5.0"
      ]
     },
     "execution_count": 71,
     "metadata": {},
     "output_type": "execute_result"
    }
   ],
   "source": [
    "abs(v1)"
   ]
  },
  {
   "cell_type": "code",
   "execution_count": 6,
   "id": "cdb5d5fd-936f-4be5-97fa-553e7b17fa9a",
   "metadata": {},
   "outputs": [
    {
     "data": {
      "text/plain": [
       "(2, 5)"
      ]
     },
     "execution_count": 6,
     "metadata": {},
     "output_type": "execute_result"
    }
   ],
   "source": [
    "len(v1), len(v2)"
   ]
  },
  {
   "cell_type": "code",
   "execution_count": 38,
   "id": "140c64e8-0c60-45f7-809d-5ecb8430aa45",
   "metadata": {},
   "outputs": [
    {
     "name": "stdout",
     "output_type": "stream",
     "text": [
      "__matmul__ operator\n"
     ]
    }
   ],
   "source": [
    "v1 @ v2"
   ]
  },
  {
   "cell_type": "code",
   "execution_count": 25,
   "id": "29e85a4b-9a46-4b6b-8bed-7a2f417f90d8",
   "metadata": {},
   "outputs": [
    {
     "name": "stdout",
     "output_type": "stream",
     "text": [
      "__mul__ was called\n"
     ]
    },
    {
     "data": {
      "text/plain": [
       "Vector(3, 6)"
      ]
     },
     "execution_count": 25,
     "metadata": {},
     "output_type": "execute_result"
    }
   ],
   "source": [
    "v1 * 3"
   ]
  },
  {
   "cell_type": "code",
   "execution_count": 29,
   "id": "72ff0110-fc26-4209-8306-28d35f5ea160",
   "metadata": {},
   "outputs": [
    {
     "name": "stdout",
     "output_type": "stream",
     "text": [
      "__mul__ was called\n"
     ]
    },
    {
     "data": {
      "text/plain": [
       "Vector(3, 6)"
      ]
     },
     "execution_count": 29,
     "metadata": {},
     "output_type": "execute_result"
    }
   ],
   "source": [
    "3 * v1"
   ]
  },
  {
   "cell_type": "markdown",
   "id": "da6a6205-3865-4f72-8134-bfd4427752c7",
   "metadata": {},
   "source": [
    "## In-Place Operator"
   ]
  },
  {
   "cell_type": "code",
   "execution_count": 13,
   "id": "9bca1df7-602d-4b17-b154-2b7b126cf080",
   "metadata": {},
   "outputs": [],
   "source": [
    "p = Person(\"Misha\", 33)"
   ]
  },
  {
   "cell_type": "code",
   "execution_count": 57,
   "id": "d8c96a8d-7741-4584-ae82-fe508e65709b",
   "metadata": {},
   "outputs": [
    {
     "name": "stdout",
     "output_type": "stream",
     "text": [
      "__iadd__ called!\n"
     ]
    },
    {
     "data": {
      "text/plain": [
       "Vector(41, 82)"
      ]
     },
     "execution_count": 57,
     "metadata": {},
     "output_type": "execute_result"
    }
   ],
   "source": [
    "v1 += v2\n",
    "v1"
   ]
  },
  {
   "cell_type": "code",
   "execution_count": 61,
   "id": "4d8c7765-cfdb-4850-bb81-0eac4d673f4f",
   "metadata": {},
   "outputs": [
    {
     "name": "stdout",
     "output_type": "stream",
     "text": [
      "__neg__ called.\n"
     ]
    },
    {
     "data": {
      "text/plain": [
       "Vector(-1, -2)"
      ]
     },
     "execution_count": 61,
     "metadata": {},
     "output_type": "execute_result"
    }
   ],
   "source": [
    "-v1"
   ]
  },
  {
   "cell_type": "code",
   "execution_count": 7,
   "id": "846ed2bc-a3e5-4b14-b75b-f32e2f99d4f0",
   "metadata": {},
   "outputs": [
    {
     "name": "stdout",
     "output_type": "stream",
     "text": [
      "__str__ called\n",
      "Misha\n"
     ]
    }
   ],
   "source": [
    "print(p)"
   ]
  },
  {
   "cell_type": "code",
   "execution_count": 8,
   "id": "2dc2e41a-136b-45dc-882d-896fd71947da",
   "metadata": {},
   "outputs": [
    {
     "name": "stdout",
     "output_type": "stream",
     "text": [
      "__repr__ called\n"
     ]
    },
    {
     "data": {
      "text/plain": [
       "Person(name='Misha', age=33)"
      ]
     },
     "execution_count": 8,
     "metadata": {},
     "output_type": "execute_result"
    }
   ],
   "source": [
    "p"
   ]
  },
  {
   "cell_type": "code",
   "execution_count": 9,
   "id": "259d647b-3810-40fc-8597-dfb824185a82",
   "metadata": {},
   "outputs": [],
   "source": [
    "class Person:\n",
    "    pass\n",
    "\n",
    "class Point:\n",
    "    pass"
   ]
  },
  {
   "cell_type": "code",
   "execution_count": 10,
   "id": "d57c83c9-5b53-4dc2-bdc9-a621c7aa8537",
   "metadata": {},
   "outputs": [],
   "source": [
    "person = Person()\n",
    "point = Point()"
   ]
  },
  {
   "cell_type": "code",
   "execution_count": 11,
   "id": "13c696d8-4f90-42d4-bd08-60f6ffc1787c",
   "metadata": {},
   "outputs": [
    {
     "data": {
      "text/plain": [
       "(<__main__.Person at 0x1c1ac69fb20>, <__main__.Point at 0x1c1ac69fbe0>)"
      ]
     },
     "execution_count": 11,
     "metadata": {},
     "output_type": "execute_result"
    }
   ],
   "source": [
    "person, point"
   ]
  },
  {
   "cell_type": "markdown",
   "id": "6c1a9ed2-6d1b-4dc3-afc0-a164c8d8dd04",
   "metadata": {},
   "source": [
    "Rich Comparisons"
   ]
  },
  {
   "cell_type": "code",
   "execution_count": 18,
   "id": "9d440bb6-db1b-4764-9f8e-8a89d00c4854",
   "metadata": {},
   "outputs": [],
   "source": [
    "from math import sqrt\n",
    "\n",
    "class Vector:\n",
    "    def __init__(self, x, y):\n",
    "        self.x = x \n",
    "        self.y = y\n",
    "\n",
    "    def __repr__(self):\n",
    "        return f'Vector(x={self.x}, y={self.y})'\n",
    "\n",
    "    def __eq__(self, other):\n",
    "        if isinstance(other, tuple):\n",
    "            other = Vector(*other)\n",
    "        if isinstance(other, Vector):\n",
    "            return self.x == other.x and self.y == other.y\n",
    "        return NotImplemented\n",
    "\n",
    "    def __abs__(self):\n",
    "        return sqrt( self.x ** 2 + self.y ** 2)\n",
    "    \n",
    "    def __lt__(self, other):\n",
    "        if isinstance(other, tuple):\n",
    "            other = Vector(*other)\n",
    "\n",
    "        if isinstance(other, Vector):\n",
    "            return abs(self) < abs(other)\n",
    "\n",
    "    def __le__(self, other):\n",
    "        return self == other or self < other"
   ]
  },
  {
   "cell_type": "code",
   "execution_count": 19,
   "id": "08c6ecec-b7a0-4b62-94fe-a06fc35bc133",
   "metadata": {},
   "outputs": [
    {
     "data": {
      "text/plain": [
       "(2194376526624, 2194370563712)"
      ]
     },
     "execution_count": 19,
     "metadata": {},
     "output_type": "execute_result"
    }
   ],
   "source": [
    "v1 = Vector(0, 1)\n",
    "v2 = Vector(0, 0)\n",
    "id(v1), id(v2)"
   ]
  },
  {
   "cell_type": "code",
   "execution_count": 17,
   "id": "93662b05-bc44-4d01-bdd1-bb86c55e23f9",
   "metadata": {},
   "outputs": [
    {
     "data": {
      "text/plain": [
       "False"
      ]
     },
     "execution_count": 17,
     "metadata": {},
     "output_type": "execute_result"
    }
   ],
   "source": [
    "v1 < v2"
   ]
  },
  {
   "cell_type": "code",
   "execution_count": 20,
   "id": "47020305-4208-4cc1-958c-e40392be0a98",
   "metadata": {},
   "outputs": [],
   "source": [
    "v3 = Vector(0, 1)"
   ]
  },
  {
   "cell_type": "code",
   "execution_count": 21,
   "id": "60a9a331-d6f4-4b23-9562-3fa03fd0eb4a",
   "metadata": {},
   "outputs": [
    {
     "data": {
      "text/plain": [
       "True"
      ]
     },
     "execution_count": 21,
     "metadata": {},
     "output_type": "execute_result"
    }
   ],
   "source": [
    "v1 <= v3"
   ]
  },
  {
   "cell_type": "code",
   "execution_count": 12,
   "id": "4bbcfff3-453b-409f-b370-26b2cc58ab5e",
   "metadata": {},
   "outputs": [
    {
     "data": {
      "text/plain": [
       "True"
      ]
     },
     "execution_count": 12,
     "metadata": {},
     "output_type": "execute_result"
    }
   ],
   "source": [
    "v1 == (0, 1)"
   ]
  },
  {
   "cell_type": "code",
   "execution_count": 13,
   "id": "8e08faec-294a-436c-8d94-625dd88b5712",
   "metadata": {},
   "outputs": [
    {
     "data": {
      "text/plain": [
       "True"
      ]
     },
     "execution_count": 13,
     "metadata": {},
     "output_type": "execute_result"
    }
   ],
   "source": [
    "(0, 1) == v1"
   ]
  },
  {
   "cell_type": "code",
   "execution_count": 22,
   "id": "921ae3a9-7e20-4be3-a1a9-86e7094bdfcb",
   "metadata": {},
   "outputs": [],
   "source": [
    "from functools import total_ordering\n",
    "\n",
    "@total_ordering\n",
    "class Number:\n",
    "    def __init__(self, x):\n",
    "        self.x = x \n",
    "\n",
    "    def __eq__(self, other):\n",
    "        print(\"__eq__ called\")\n",
    "        if isinstance(other, Number):\n",
    "            return self.x == other.x\n",
    "        return NotImplemented\n",
    "\n",
    "    def __lt__(self, other):\n",
    "        print(\"__lt__ called\")\n",
    "        if isinstance(other, Number):\n",
    "            return self.x < other.x \n",
    "        return NotImplemented"
   ]
  },
  {
   "cell_type": "code",
   "execution_count": 23,
   "id": "94d580e3-fbc1-42ef-9033-697a71cd40a4",
   "metadata": {},
   "outputs": [],
   "source": [
    "a = Number(1)\n",
    "b = Number(4)\n",
    "c = Number(1)"
   ]
  },
  {
   "cell_type": "code",
   "execution_count": 24,
   "id": "6365ddd9-69f9-468b-9919-828066b5ba4b",
   "metadata": {},
   "outputs": [
    {
     "name": "stdout",
     "output_type": "stream",
     "text": [
      "__eq__ called\n"
     ]
    },
    {
     "data": {
      "text/plain": [
       "False"
      ]
     },
     "execution_count": 24,
     "metadata": {},
     "output_type": "execute_result"
    }
   ],
   "source": [
    "c != a\n"
   ]
  },
  {
   "cell_type": "markdown",
   "id": "9e3ceaba-ad82-41f9-a4c0-017e3dc3d8b0",
   "metadata": {},
   "source": [
    "## Hashing "
   ]
  },
  {
   "cell_type": "code",
   "execution_count": 8,
   "id": "e8a2d816-1f8e-47b5-908d-e6311a321855",
   "metadata": {},
   "outputs": [],
   "source": [
    "class Person:\n",
    "    def __init__(self, name):\n",
    "        self._name = name\n",
    "\n",
    "    @property\n",
    "    def name(self):\n",
    "        return self._name\n",
    "\n",
    "    def __eq__(self, other):\n",
    "        return isinstance(other, Person) and self.name == other.name\n",
    "\n",
    "    def __hash__(self):\n",
    "        return hash(self.name)\n",
    "\n",
    "    def __repr__(self):\n",
    "        return f\"Person(name = '{self.name}')\""
   ]
  },
  {
   "cell_type": "code",
   "execution_count": 9,
   "id": "e46858c8-dab9-4428-8779-01ff8a1fd978",
   "metadata": {},
   "outputs": [],
   "source": [
    "p1 = Person('John')\n",
    "p2 = Person('Erica')\n",
    "p3 = Person('John')"
   ]
  },
  {
   "cell_type": "code",
   "execution_count": 10,
   "id": "1e7eb5a4-42c5-4d50-81cf-00cceaed1aa2",
   "metadata": {},
   "outputs": [
    {
     "data": {
      "text/plain": [
       "False"
      ]
     },
     "execution_count": 10,
     "metadata": {},
     "output_type": "execute_result"
    }
   ],
   "source": [
    "p1 == p2\n"
   ]
  },
  {
   "cell_type": "code",
   "execution_count": 12,
   "id": "33c3bc0c-de2e-488a-949d-3336e26c5395",
   "metadata": {},
   "outputs": [
    {
     "data": {
      "text/plain": [
       "(5464858653660637608, 5464858653660637608)"
      ]
     },
     "execution_count": 12,
     "metadata": {},
     "output_type": "execute_result"
    }
   ],
   "source": [
    "hash(p1), hash(p3)"
   ]
  },
  {
   "cell_type": "markdown",
   "id": "0ac8143f-f061-41eb-82c4-6361c28e73f3",
   "metadata": {},
   "source": [
    "## Booleans"
   ]
  },
  {
   "cell_type": "code",
   "execution_count": 16,
   "id": "6151baba-658b-4ff9-be60-f6f3e5c08eab",
   "metadata": {},
   "outputs": [],
   "source": [
    "class MyList:\n",
    "    def __init__(self, length):\n",
    "        self._lenght = length\n",
    "\n",
    "    def __len__(self):\n",
    "        print('__len__ called')\n",
    "        return self._lenght\n",
    "\n",
    "    def __bool__(self):\n",
    "        print('__bool__ called')\n",
    "        return self._lenght > 0"
   ]
  },
  {
   "cell_type": "code",
   "execution_count": 17,
   "id": "10f20463-23dd-425d-b95c-5838f956f44b",
   "metadata": {},
   "outputs": [],
   "source": [
    "l1 = MyList(0)\n",
    "l2 = MyList(21)"
   ]
  },
  {
   "cell_type": "code",
   "execution_count": 18,
   "id": "0a2aca75-8ffa-4885-a992-1c8cb7ecc066",
   "metadata": {},
   "outputs": [
    {
     "name": "stdout",
     "output_type": "stream",
     "text": [
      "__bool__ called\n"
     ]
    },
    {
     "data": {
      "text/plain": [
       "False"
      ]
     },
     "execution_count": 18,
     "metadata": {},
     "output_type": "execute_result"
    }
   ],
   "source": [
    "bool(l1)"
   ]
  },
  {
   "cell_type": "code",
   "execution_count": 19,
   "id": "f7587a88-dfcf-42c0-b503-1bbc9a158ec8",
   "metadata": {},
   "outputs": [
    {
     "name": "stdout",
     "output_type": "stream",
     "text": [
      "__bool__ called\n"
     ]
    },
    {
     "data": {
      "text/plain": [
       "True"
      ]
     },
     "execution_count": 19,
     "metadata": {},
     "output_type": "execute_result"
    }
   ],
   "source": [
    "bool(l2)"
   ]
  },
  {
   "cell_type": "code",
   "execution_count": 23,
   "id": "2671da52-a294-4b21-99e8-be5c2df40429",
   "metadata": {},
   "outputs": [],
   "source": [
    "class Point:\n",
    "    def __init__(self, x, y):\n",
    "        self.x = x\n",
    "        self.y = y\n",
    "\n",
    "    # def __bool__(self):\n",
    "    #     return self.x != 0 or self.y != 0\n",
    "\n",
    "    def __bool__(self):\n",
    "        return bool(self.x) or bool(self.y)"
   ]
  },
  {
   "cell_type": "code",
   "execution_count": 24,
   "id": "17222eaf-13de-4c14-a713-81339a7709c4",
   "metadata": {},
   "outputs": [],
   "source": [
    "p1 = Point(0, 0)\n",
    "p2 = Point(1, 0)"
   ]
  },
  {
   "cell_type": "code",
   "execution_count": 25,
   "id": "c68bb6b2-21e9-4cd0-8338-787d6f6750e3",
   "metadata": {},
   "outputs": [
    {
     "data": {
      "text/plain": [
       "(False, True)"
      ]
     },
     "execution_count": 25,
     "metadata": {},
     "output_type": "execute_result"
    }
   ],
   "source": [
    "bool(p1), bool(p2)"
   ]
  },
  {
   "cell_type": "markdown",
   "id": "4c06e523-d2c5-4696-9fd0-e3828b82959a",
   "metadata": {},
   "source": [
    "## Callables"
   ]
  },
  {
   "cell_type": "code",
   "execution_count": 26,
   "id": "7d2cb542-5cb5-4fb1-80e5-6ef3460b7cd7",
   "metadata": {},
   "outputs": [],
   "source": [
    "class Person:\n",
    "    def __call__(self):\n",
    "        print('__call__ called')"
   ]
  },
  {
   "cell_type": "code",
   "execution_count": 27,
   "id": "fade3133-0426-488c-95b6-a7378dc4e718",
   "metadata": {},
   "outputs": [
    {
     "name": "stdout",
     "output_type": "stream",
     "text": [
      "__call__ called\n"
     ]
    }
   ],
   "source": [
    "p = Person()\n",
    "p()"
   ]
  },
  {
   "cell_type": "code",
   "execution_count": 28,
   "id": "36b80503-c20b-427c-a919-35645841780f",
   "metadata": {},
   "outputs": [],
   "source": [
    "from functools import partial"
   ]
  },
  {
   "cell_type": "code",
   "execution_count": 29,
   "id": "09f9d785-341b-44b6-aae8-f417b7911baa",
   "metadata": {},
   "outputs": [],
   "source": [
    "def my_func(a, b, c):\n",
    "    return a, b, c"
   ]
  },
  {
   "cell_type": "code",
   "execution_count": 30,
   "id": "45ae3304-c36d-4be2-9eca-573c67a54041",
   "metadata": {},
   "outputs": [
    {
     "data": {
      "text/plain": [
       "function"
      ]
     },
     "execution_count": 30,
     "metadata": {},
     "output_type": "execute_result"
    }
   ],
   "source": [
    "type(my_func)"
   ]
  },
  {
   "cell_type": "code",
   "execution_count": 33,
   "id": "acd29a43-596c-4fe9-9e4c-3a276193dc96",
   "metadata": {},
   "outputs": [],
   "source": [
    "partial_func = partial(my_func, 10, 20)"
   ]
  },
  {
   "cell_type": "code",
   "execution_count": 34,
   "id": "cc05f4be-f99b-409b-b5a4-ccd4ee87a3e0",
   "metadata": {},
   "outputs": [
    {
     "data": {
      "text/plain": [
       "(10, 20, 30)"
      ]
     },
     "execution_count": 34,
     "metadata": {},
     "output_type": "execute_result"
    }
   ],
   "source": [
    "partial_func(30)"
   ]
  },
  {
   "cell_type": "code",
   "execution_count": 45,
   "id": "e94f7a18-989a-4873-a1c6-47d726acc4cb",
   "metadata": {},
   "outputs": [],
   "source": [
    "class Partial:\n",
    "    def __init__(self, func, *args):\n",
    "        self._func = func\n",
    "        self._args = args\n",
    "\n",
    "    def __call__(self, *args):\n",
    "        return self._func(*self._args, *args)"
   ]
  },
  {
   "cell_type": "code",
   "execution_count": 47,
   "id": "b1aa348c-8f4b-4b55-bbbf-145c6700a7c5",
   "metadata": {},
   "outputs": [
    {
     "data": {
      "text/plain": [
       "(10, 20, 30)"
      ]
     },
     "execution_count": 47,
     "metadata": {},
     "output_type": "execute_result"
    }
   ],
   "source": [
    "partial_func = Partial(my_func, 10, 20)\n",
    "partial_func(30)"
   ]
  }
 ],
 "metadata": {
  "kernelspec": {
   "display_name": "Python 3 (ipykernel)",
   "language": "python",
   "name": "python3"
  },
  "language_info": {
   "codemirror_mode": {
    "name": "ipython",
    "version": 3
   },
   "file_extension": ".py",
   "mimetype": "text/x-python",
   "name": "python",
   "nbconvert_exporter": "python",
   "pygments_lexer": "ipython3",
   "version": "3.9.12"
  }
 },
 "nbformat": 4,
 "nbformat_minor": 5
}
